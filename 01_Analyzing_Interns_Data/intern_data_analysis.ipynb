{
 "cells": [
  {
   "cell_type": "markdown",
   "id": "6b0bfd58",
   "metadata": {},
   "source": [
    "# **Importing Libraries**"
   ]
  },
  {
   "cell_type": "code",
   "execution_count": 1,
   "id": "2210e55b",
   "metadata": {},
   "outputs": [],
   "source": [
    "import numpy as np\n",
    "import pandas as pd\n",
    "import matplotlib.pyplot as plt"
   ]
  },
  {
   "cell_type": "markdown",
   "id": "4e814f09",
   "metadata": {},
   "source": [
    "# **Loading the Dataset**"
   ]
  },
  {
   "cell_type": "code",
   "execution_count": 2,
   "id": "8ba8fbc3",
   "metadata": {},
   "outputs": [
    {
     "data": {
      "text/plain": [
       "(1000, 8)"
      ]
     },
     "execution_count": 2,
     "metadata": {},
     "output_type": "execute_result"
    }
   ],
   "source": [
    "df = pd.read_csv('raw_data_v11_3.csv')\n",
    "\n",
    "df.shape"
   ]
  },
  {
   "cell_type": "code",
   "execution_count": 3,
   "id": "4ff1cfc0",
   "metadata": {},
   "outputs": [
    {
     "data": {
      "text/html": [
       "<div>\n",
       "<style scoped>\n",
       "    .dataframe tbody tr th:only-of-type {\n",
       "        vertical-align: middle;\n",
       "    }\n",
       "\n",
       "    .dataframe tbody tr th {\n",
       "        vertical-align: top;\n",
       "    }\n",
       "\n",
       "    .dataframe thead th {\n",
       "        text-align: right;\n",
       "    }\n",
       "</style>\n",
       "<table border=\"1\" class=\"dataframe\">\n",
       "  <thead>\n",
       "    <tr style=\"text-align: right;\">\n",
       "      <th></th>\n",
       "      <th>Date of Birth</th>\n",
       "      <th>What is your current profession?</th>\n",
       "      <th>What is the year of completion of your Highest Education Qualification?</th>\n",
       "      <th>Which of the following best describes you?</th>\n",
       "      <th>Please mention the name of the institute where you have completed or are currently pursuing your Data Science Certification Course.</th>\n",
       "      <th>In case your certification institute is \"Innomatics Research Labs\", please provide your Enrolled Batch Number.</th>\n",
       "      <th>Please indicate the time that suits you for your daily LIVE interaction with our Chief Data Scientist as part of your internship.</th>\n",
       "      <th>What do you think are most important skill right now for a skilled Data Scientist?</th>\n",
       "    </tr>\n",
       "  </thead>\n",
       "  <tbody>\n",
       "    <tr>\n",
       "      <th>0</th>\n",
       "      <td>9/16/2000</td>\n",
       "      <td>Fresher (I have completed my Education and loo...</td>\n",
       "      <td>7/30/2023</td>\n",
       "      <td>I am currently enrolled in a Data Science cert...</td>\n",
       "      <td>Innomatics Research Labs</td>\n",
       "      <td>251</td>\n",
       "      <td>6:00 to 7:00 PM IST</td>\n",
       "      <td>Extracting actionable insights from the raw da...</td>\n",
       "    </tr>\n",
       "    <tr>\n",
       "      <th>1</th>\n",
       "      <td>2/6/1998</td>\n",
       "      <td>Fresher (I have completed my Education and loo...</td>\n",
       "      <td>5/18/2022</td>\n",
       "      <td>I have never enrolled in any certification cou...</td>\n",
       "      <td>NaN</td>\n",
       "      <td>NaN</td>\n",
       "      <td>6:00 to 7:00 PM IST</td>\n",
       "      <td>Extracting actionable insights from the raw data</td>\n",
       "    </tr>\n",
       "    <tr>\n",
       "      <th>2</th>\n",
       "      <td>10/8/2003</td>\n",
       "      <td>Student (I am currently enrolled in some Educa...</td>\n",
       "      <td>4/1/2025</td>\n",
       "      <td>I am currently enrolled in a Data Science cert...</td>\n",
       "      <td>NaN</td>\n",
       "      <td>NaN</td>\n",
       "      <td>6:00 to 7:00 PM IST</td>\n",
       "      <td>Data Modelling</td>\n",
       "    </tr>\n",
       "    <tr>\n",
       "      <th>3</th>\n",
       "      <td>11/29/2001</td>\n",
       "      <td>Student (I am currently enrolled in some Educa...</td>\n",
       "      <td>5/15/2024</td>\n",
       "      <td>I have never enrolled in any certification cou...</td>\n",
       "      <td>NaN</td>\n",
       "      <td>NaN</td>\n",
       "      <td>5:00 to 6:00 PM IST</td>\n",
       "      <td>Extracting actionable insights from the raw da...</td>\n",
       "    </tr>\n",
       "    <tr>\n",
       "      <th>4</th>\n",
       "      <td>11/25/2004</td>\n",
       "      <td>Student (I am currently enrolled in some Educa...</td>\n",
       "      <td>1/10/2026</td>\n",
       "      <td>I have completed a Data Science certification ...</td>\n",
       "      <td>Velagapudi ramakrishna Siddhartha college</td>\n",
       "      <td>Na</td>\n",
       "      <td>6:00 to 7:00 PM IST</td>\n",
       "      <td>Extracting actionable insights from the raw da...</td>\n",
       "    </tr>\n",
       "  </tbody>\n",
       "</table>\n",
       "</div>"
      ],
      "text/plain": [
       "  Date of Birth                   What is your current profession?  \\\n",
       "0     9/16/2000  Fresher (I have completed my Education and loo...   \n",
       "1      2/6/1998  Fresher (I have completed my Education and loo...   \n",
       "2     10/8/2003  Student (I am currently enrolled in some Educa...   \n",
       "3    11/29/2001  Student (I am currently enrolled in some Educa...   \n",
       "4    11/25/2004  Student (I am currently enrolled in some Educa...   \n",
       "\n",
       "  What is the year of completion of your Highest Education Qualification?  \\\n",
       "0                                          7/30/2023                        \n",
       "1                                          5/18/2022                        \n",
       "2                                           4/1/2025                        \n",
       "3                                          5/15/2024                        \n",
       "4                                          1/10/2026                        \n",
       "\n",
       "          Which of the following best describes you?  \\\n",
       "0  I am currently enrolled in a Data Science cert...   \n",
       "1  I have never enrolled in any certification cou...   \n",
       "2  I am currently enrolled in a Data Science cert...   \n",
       "3  I have never enrolled in any certification cou...   \n",
       "4  I have completed a Data Science certification ...   \n",
       "\n",
       "  Please mention the name of the institute where you have completed or are currently pursuing your Data Science Certification Course.  \\\n",
       "0                           Innomatics Research Labs                                                                                    \n",
       "1                                                NaN                                                                                    \n",
       "2                                                NaN                                                                                    \n",
       "3                                                NaN                                                                                    \n",
       "4         Velagapudi ramakrishna Siddhartha college                                                                                     \n",
       "\n",
       "  In case your certification institute is \"Innomatics Research Labs\", please provide your Enrolled Batch Number.  \\\n",
       "0                                                251                                                               \n",
       "1                                                NaN                                                               \n",
       "2                                                NaN                                                               \n",
       "3                                                NaN                                                               \n",
       "4                                                 Na                                                               \n",
       "\n",
       "  Please indicate the time that suits you for your daily LIVE interaction with our Chief Data Scientist as part of your internship.  \\\n",
       "0                                6:00 to 7:00 PM IST                                                                                  \n",
       "1                                6:00 to 7:00 PM IST                                                                                  \n",
       "2                                6:00 to 7:00 PM IST                                                                                  \n",
       "3                                5:00 to 6:00 PM IST                                                                                  \n",
       "4                                6:00 to 7:00 PM IST                                                                                  \n",
       "\n",
       "  What do you think are most important skill right now for a skilled Data Scientist?  \n",
       "0  Extracting actionable insights from the raw da...                                  \n",
       "1   Extracting actionable insights from the raw data                                  \n",
       "2                                     Data Modelling                                  \n",
       "3  Extracting actionable insights from the raw da...                                  \n",
       "4  Extracting actionable insights from the raw da...                                  "
      ]
     },
     "execution_count": 3,
     "metadata": {},
     "output_type": "execute_result"
    }
   ],
   "source": [
    "df.head()"
   ]
  },
  {
   "cell_type": "markdown",
   "id": "b149000f",
   "metadata": {},
   "source": [
    "# **Renaming the Column name**\n",
    "\n",
    "1. 'Date of Birth' -  **'dob'**\n",
    "2. 'What is your current profession?'  -  **'current_profession'**\n",
    "3. 'What is the year of completion of your Highest Education Qualification'    - **'degree_yoc'**\n",
    "4. 'Which of the following best describes you?'  -  **'ds_course_enrollment'**\n",
    "5. 'Please mention the name of the institute where you have completed or are currently pursuing your Data Science Certification Course.'  -  **'ds_course_institue'**\n",
    "6. 'In case your certification institute is \"Innomatics Research Labs\", please provide your Enrolled Batch Number'  -  **'innomatics_batch_number'**\n",
    "7. 'Please indicate time that suits you for daily LIVE interaction with our Chief Data Scientist as part of your internship.'  -  **'internship_timing_preference'**\n",
    "8. 'What do you think are most important skill right now for a skilled Data Scientist?'  -  **'ds_imp_skills'**"
   ]
  },
  {
   "cell_type": "code",
   "execution_count": 4,
   "id": "01b39762",
   "metadata": {},
   "outputs": [
    {
     "data": {
      "text/plain": [
       "Index(['Date of Birth', 'What is your current profession?',\n",
       "       'What is the year of completion of your Highest Education Qualification?',\n",
       "       'Which of the following best describes you?',\n",
       "       'Please mention the name of the institute where you have completed or are currently pursuing your Data Science Certification Course.',\n",
       "       'In case your certification institute is \"Innomatics Research Labs\", please provide your Enrolled Batch Number.',\n",
       "       'Please indicate the time that suits you for your daily LIVE interaction with our Chief Data Scientist as part of your internship.',\n",
       "       'What do you think are most important skill right now for a skilled Data Scientist?'],\n",
       "      dtype='object')"
      ]
     },
     "execution_count": 4,
     "metadata": {},
     "output_type": "execute_result"
    }
   ],
   "source": [
    "df.columns"
   ]
  },
  {
   "cell_type": "code",
   "execution_count": 5,
   "id": "30a52725",
   "metadata": {},
   "outputs": [
    {
     "data": {
      "text/html": [
       "<div>\n",
       "<style scoped>\n",
       "    .dataframe tbody tr th:only-of-type {\n",
       "        vertical-align: middle;\n",
       "    }\n",
       "\n",
       "    .dataframe tbody tr th {\n",
       "        vertical-align: top;\n",
       "    }\n",
       "\n",
       "    .dataframe thead th {\n",
       "        text-align: right;\n",
       "    }\n",
       "</style>\n",
       "<table border=\"1\" class=\"dataframe\">\n",
       "  <thead>\n",
       "    <tr style=\"text-align: right;\">\n",
       "      <th></th>\n",
       "      <th>dob</th>\n",
       "      <th>current_profession</th>\n",
       "      <th>degree_yoc</th>\n",
       "      <th>ds_course_enrollment</th>\n",
       "      <th>ds_course_institute</th>\n",
       "      <th>innomatics_batch_number</th>\n",
       "      <th>internship_timing_preference</th>\n",
       "      <th>ds_imp_skills</th>\n",
       "    </tr>\n",
       "  </thead>\n",
       "  <tbody>\n",
       "    <tr>\n",
       "      <th>0</th>\n",
       "      <td>9/16/2000</td>\n",
       "      <td>Fresher (I have completed my Education and loo...</td>\n",
       "      <td>7/30/2023</td>\n",
       "      <td>I am currently enrolled in a Data Science cert...</td>\n",
       "      <td>Innomatics Research Labs</td>\n",
       "      <td>251</td>\n",
       "      <td>6:00 to 7:00 PM IST</td>\n",
       "      <td>Extracting actionable insights from the raw da...</td>\n",
       "    </tr>\n",
       "    <tr>\n",
       "      <th>1</th>\n",
       "      <td>2/6/1998</td>\n",
       "      <td>Fresher (I have completed my Education and loo...</td>\n",
       "      <td>5/18/2022</td>\n",
       "      <td>I have never enrolled in any certification cou...</td>\n",
       "      <td>NaN</td>\n",
       "      <td>NaN</td>\n",
       "      <td>6:00 to 7:00 PM IST</td>\n",
       "      <td>Extracting actionable insights from the raw data</td>\n",
       "    </tr>\n",
       "    <tr>\n",
       "      <th>2</th>\n",
       "      <td>10/8/2003</td>\n",
       "      <td>Student (I am currently enrolled in some Educa...</td>\n",
       "      <td>4/1/2025</td>\n",
       "      <td>I am currently enrolled in a Data Science cert...</td>\n",
       "      <td>NaN</td>\n",
       "      <td>NaN</td>\n",
       "      <td>6:00 to 7:00 PM IST</td>\n",
       "      <td>Data Modelling</td>\n",
       "    </tr>\n",
       "    <tr>\n",
       "      <th>3</th>\n",
       "      <td>11/29/2001</td>\n",
       "      <td>Student (I am currently enrolled in some Educa...</td>\n",
       "      <td>5/15/2024</td>\n",
       "      <td>I have never enrolled in any certification cou...</td>\n",
       "      <td>NaN</td>\n",
       "      <td>NaN</td>\n",
       "      <td>5:00 to 6:00 PM IST</td>\n",
       "      <td>Extracting actionable insights from the raw da...</td>\n",
       "    </tr>\n",
       "    <tr>\n",
       "      <th>4</th>\n",
       "      <td>11/25/2004</td>\n",
       "      <td>Student (I am currently enrolled in some Educa...</td>\n",
       "      <td>1/10/2026</td>\n",
       "      <td>I have completed a Data Science certification ...</td>\n",
       "      <td>Velagapudi ramakrishna Siddhartha college</td>\n",
       "      <td>Na</td>\n",
       "      <td>6:00 to 7:00 PM IST</td>\n",
       "      <td>Extracting actionable insights from the raw da...</td>\n",
       "    </tr>\n",
       "  </tbody>\n",
       "</table>\n",
       "</div>"
      ],
      "text/plain": [
       "          dob                                 current_profession degree_yoc  \\\n",
       "0   9/16/2000  Fresher (I have completed my Education and loo...  7/30/2023   \n",
       "1    2/6/1998  Fresher (I have completed my Education and loo...  5/18/2022   \n",
       "2   10/8/2003  Student (I am currently enrolled in some Educa...   4/1/2025   \n",
       "3  11/29/2001  Student (I am currently enrolled in some Educa...  5/15/2024   \n",
       "4  11/25/2004  Student (I am currently enrolled in some Educa...  1/10/2026   \n",
       "\n",
       "                                ds_course_enrollment  \\\n",
       "0  I am currently enrolled in a Data Science cert...   \n",
       "1  I have never enrolled in any certification cou...   \n",
       "2  I am currently enrolled in a Data Science cert...   \n",
       "3  I have never enrolled in any certification cou...   \n",
       "4  I have completed a Data Science certification ...   \n",
       "\n",
       "                          ds_course_institute innomatics_batch_number  \\\n",
       "0                    Innomatics Research Labs                     251   \n",
       "1                                         NaN                     NaN   \n",
       "2                                         NaN                     NaN   \n",
       "3                                         NaN                     NaN   \n",
       "4  Velagapudi ramakrishna Siddhartha college                       Na   \n",
       "\n",
       "  internship_timing_preference  \\\n",
       "0          6:00 to 7:00 PM IST   \n",
       "1          6:00 to 7:00 PM IST   \n",
       "2          6:00 to 7:00 PM IST   \n",
       "3          5:00 to 6:00 PM IST   \n",
       "4          6:00 to 7:00 PM IST   \n",
       "\n",
       "                                       ds_imp_skills  \n",
       "0  Extracting actionable insights from the raw da...  \n",
       "1   Extracting actionable insights from the raw data  \n",
       "2                                     Data Modelling  \n",
       "3  Extracting actionable insights from the raw da...  \n",
       "4  Extracting actionable insights from the raw da...  "
      ]
     },
     "execution_count": 5,
     "metadata": {},
     "output_type": "execute_result"
    }
   ],
   "source": [
    "df.columns = ['dob', 'current_profession', 'degree_yoc', 'ds_course_enrollment', 'ds_course_institute',\n",
    "              'innomatics_batch_number', 'internship_timing_preference', 'ds_imp_skills']\n",
    "df.head()"
   ]
  },
  {
   "cell_type": "code",
   "execution_count": 6,
   "id": "68d10ea7",
   "metadata": {},
   "outputs": [
    {
     "name": "stdout",
     "output_type": "stream",
     "text": [
      "<class 'pandas.core.frame.DataFrame'>\n",
      "RangeIndex: 1000 entries, 0 to 999\n",
      "Data columns (total 8 columns):\n",
      " #   Column                        Non-Null Count  Dtype \n",
      "---  ------                        --------------  ----- \n",
      " 0   dob                           1000 non-null   object\n",
      " 1   current_profession            1000 non-null   object\n",
      " 2   degree_yoc                    1000 non-null   object\n",
      " 3   ds_course_enrollment          1000 non-null   object\n",
      " 4   ds_course_institute           678 non-null    object\n",
      " 5   innomatics_batch_number       338 non-null    object\n",
      " 6   internship_timing_preference  1000 non-null   object\n",
      " 7   ds_imp_skills                 1000 non-null   object\n",
      "dtypes: object(8)\n",
      "memory usage: 62.6+ KB\n"
     ]
    }
   ],
   "source": [
    "df.info()"
   ]
  },
  {
   "cell_type": "code",
   "execution_count": 7,
   "id": "be8327af",
   "metadata": {},
   "outputs": [
    {
     "data": {
      "text/html": [
       "<div>\n",
       "<style scoped>\n",
       "    .dataframe tbody tr th:only-of-type {\n",
       "        vertical-align: middle;\n",
       "    }\n",
       "\n",
       "    .dataframe tbody tr th {\n",
       "        vertical-align: top;\n",
       "    }\n",
       "\n",
       "    .dataframe thead th {\n",
       "        text-align: right;\n",
       "    }\n",
       "</style>\n",
       "<table border=\"1\" class=\"dataframe\">\n",
       "  <thead>\n",
       "    <tr style=\"text-align: right;\">\n",
       "      <th></th>\n",
       "      <th>dob</th>\n",
       "      <th>current_profession</th>\n",
       "      <th>degree_yoc</th>\n",
       "      <th>ds_course_enrollment</th>\n",
       "      <th>ds_course_institute</th>\n",
       "      <th>innomatics_batch_number</th>\n",
       "      <th>internship_timing_preference</th>\n",
       "      <th>ds_imp_skills</th>\n",
       "    </tr>\n",
       "  </thead>\n",
       "  <tbody>\n",
       "    <tr>\n",
       "      <th>8</th>\n",
       "      <td>10/30/2003</td>\n",
       "      <td>Student (I am currently enrolled in some Educa...</td>\n",
       "      <td>4/30/2025</td>\n",
       "      <td>I have never enrolled in any certification cou...</td>\n",
       "      <td>NaN</td>\n",
       "      <td>NaN</td>\n",
       "      <td>6:00 to 7:00 PM IST</td>\n",
       "      <td>Basics of backend application development usin...</td>\n",
       "    </tr>\n",
       "    <tr>\n",
       "      <th>221</th>\n",
       "      <td>3/22/2004</td>\n",
       "      <td>Student (I am currently enrolled in some Educa...</td>\n",
       "      <td>5/31/2025</td>\n",
       "      <td>I am currently enrolled in a Data Science cert...</td>\n",
       "      <td>Cisco networking academy</td>\n",
       "      <td>NaN</td>\n",
       "      <td>6:00 to 7:00 PM IST</td>\n",
       "      <td>Extracting actionable insights from the raw da...</td>\n",
       "    </tr>\n",
       "    <tr>\n",
       "      <th>341</th>\n",
       "      <td>3/22/2004</td>\n",
       "      <td>Student (I am currently enrolled in some Educa...</td>\n",
       "      <td>5/31/2025</td>\n",
       "      <td>I am currently enrolled in a Data Science cert...</td>\n",
       "      <td>Cisco networking academy</td>\n",
       "      <td>NaN</td>\n",
       "      <td>6:00 to 7:00 PM IST</td>\n",
       "      <td>Extracting actionable insights from the raw da...</td>\n",
       "    </tr>\n",
       "    <tr>\n",
       "      <th>384</th>\n",
       "      <td>10/30/2003</td>\n",
       "      <td>Student (I am currently enrolled in some Educa...</td>\n",
       "      <td>4/30/2025</td>\n",
       "      <td>I have never enrolled in any certification cou...</td>\n",
       "      <td>NaN</td>\n",
       "      <td>NaN</td>\n",
       "      <td>6:00 to 7:00 PM IST</td>\n",
       "      <td>Basics of backend application development usin...</td>\n",
       "    </tr>\n",
       "  </tbody>\n",
       "</table>\n",
       "</div>"
      ],
      "text/plain": [
       "            dob                                 current_profession degree_yoc  \\\n",
       "8    10/30/2003  Student (I am currently enrolled in some Educa...  4/30/2025   \n",
       "221   3/22/2004  Student (I am currently enrolled in some Educa...  5/31/2025   \n",
       "341   3/22/2004  Student (I am currently enrolled in some Educa...  5/31/2025   \n",
       "384  10/30/2003  Student (I am currently enrolled in some Educa...  4/30/2025   \n",
       "\n",
       "                                  ds_course_enrollment  \\\n",
       "8    I have never enrolled in any certification cou...   \n",
       "221  I am currently enrolled in a Data Science cert...   \n",
       "341  I am currently enrolled in a Data Science cert...   \n",
       "384  I have never enrolled in any certification cou...   \n",
       "\n",
       "           ds_course_institute innomatics_batch_number  \\\n",
       "8                          NaN                     NaN   \n",
       "221  Cisco networking academy                      NaN   \n",
       "341  Cisco networking academy                      NaN   \n",
       "384                        NaN                     NaN   \n",
       "\n",
       "    internship_timing_preference  \\\n",
       "8            6:00 to 7:00 PM IST   \n",
       "221          6:00 to 7:00 PM IST   \n",
       "341          6:00 to 7:00 PM IST   \n",
       "384          6:00 to 7:00 PM IST   \n",
       "\n",
       "                                         ds_imp_skills  \n",
       "8    Basics of backend application development usin...  \n",
       "221  Extracting actionable insights from the raw da...  \n",
       "341  Extracting actionable insights from the raw da...  \n",
       "384  Basics of backend application development usin...  "
      ]
     },
     "execution_count": 7,
     "metadata": {},
     "output_type": "execute_result"
    }
   ],
   "source": [
    "df[df.duplicated(keep=False)]"
   ]
  },
  {
   "cell_type": "code",
   "execution_count": 8,
   "id": "e48c6d09",
   "metadata": {},
   "outputs": [
    {
     "data": {
      "text/plain": [
       "(998, 8)"
      ]
     },
     "execution_count": 8,
     "metadata": {},
     "output_type": "execute_result"
    }
   ],
   "source": [
    "df_no_dup = df.drop_duplicates()\n",
    "\n",
    "df_no_dup.shape"
   ]
  },
  {
   "cell_type": "markdown",
   "id": "2cb55a70",
   "metadata": {},
   "source": [
    "### **What is the current profession of most interns?**"
   ]
  },
  {
   "cell_type": "code",
   "execution_count": 9,
   "id": "f34c5a07",
   "metadata": {},
   "outputs": [
    {
     "data": {
      "text/plain": [
       "current_profession\n",
       "Student (I am currently enrolled in some Educational Program)                          488\n",
       "Fresher (I have completed my Education and looking for a job now)                      424\n",
       "Working Professional (I have completed my Education and working full time)              62\n",
       "Freelancer (I have completed my Education and working part time or owns a business)     26\n",
       "Name: count, dtype: int64"
      ]
     },
     "execution_count": 9,
     "metadata": {},
     "output_type": "execute_result"
    }
   ],
   "source": [
    "df['current_profession'].value_counts()"
   ]
  },
  {
   "cell_type": "code",
   "execution_count": 10,
   "id": "3e263514",
   "metadata": {},
   "outputs": [
    {
     "data": {
      "text/plain": [
       "'Student (I am currently enrolled in some Educational Program)'"
      ]
     },
     "execution_count": 10,
     "metadata": {},
     "output_type": "execute_result"
    }
   ],
   "source": [
    "df['current_profession'].value_counts().idxmax()"
   ]
  },
  {
   "cell_type": "markdown",
   "id": "6cdaf595",
   "metadata": {},
   "source": [
    "### **What are the preferred LIVE session timings?**"
   ]
  },
  {
   "cell_type": "code",
   "execution_count": 11,
   "id": "968820d3",
   "metadata": {},
   "outputs": [
    {
     "data": {
      "text/plain": [
       "internship_timing_preference\n",
       "6:00 to 7:00 PM IST    672\n",
       "5:00 to 6:00 PM IST    328\n",
       "Name: count, dtype: int64"
      ]
     },
     "execution_count": 11,
     "metadata": {},
     "output_type": "execute_result"
    }
   ],
   "source": [
    "df['internship_timing_preference'].value_counts()"
   ]
  },
  {
   "cell_type": "code",
   "execution_count": 12,
   "id": "7944999d",
   "metadata": {},
   "outputs": [
    {
     "data": {
      "text/plain": [
       "'6:00 to 7:00 PM IST'"
      ]
     },
     "execution_count": 12,
     "metadata": {},
     "output_type": "execute_result"
    }
   ],
   "source": [
    "df['internship_timing_preference'].value_counts().idxmax()"
   ]
  },
  {
   "cell_type": "markdown",
   "id": "f25ae14b",
   "metadata": {},
   "source": [
    "### **How many interns are enrolled or have completed their data science professional courses?**"
   ]
  },
  {
   "cell_type": "code",
   "execution_count": 13,
   "id": "bb582c13",
   "metadata": {},
   "outputs": [
    {
     "data": {
      "text/plain": [
       "ds_course_enrollment\n",
       "I am currently enrolled in a Data Science certification course    405\n",
       "I have never enrolled in any certification courses                302\n",
       "I have completed a Data Science certification course              293\n",
       "Name: count, dtype: int64"
      ]
     },
     "execution_count": 13,
     "metadata": {},
     "output_type": "execute_result"
    }
   ],
   "source": [
    "df['ds_course_enrollment'].value_counts()"
   ]
  },
  {
   "cell_type": "code",
   "execution_count": 14,
   "id": "bb4ba965",
   "metadata": {},
   "outputs": [
    {
     "data": {
      "text/plain": [
       "698"
      ]
     },
     "execution_count": 14,
     "metadata": {},
     "output_type": "execute_result"
    }
   ],
   "source": [
    "df['ds_course_enrollment'].value_counts().values[0] + df['ds_course_enrollment'].value_counts().values[2]"
   ]
  },
  {
   "cell_type": "code",
   "execution_count": 15,
   "id": "2da5928e",
   "metadata": {},
   "outputs": [
    {
     "data": {
      "text/plain": [
       "697"
      ]
     },
     "execution_count": 15,
     "metadata": {},
     "output_type": "execute_result"
    }
   ],
   "source": [
    "#without duplicates\n",
    "df_no_dup['ds_course_enrollment'].value_counts().values[0] + df_no_dup['ds_course_enrollment'].value_counts().values[2]"
   ]
  },
  {
   "cell_type": "markdown",
   "id": "20baa305",
   "metadata": {},
   "source": [
    "### **For interns who never enrolled in a data science certification course, what is the current profession of the majority of them?**"
   ]
  },
  {
   "cell_type": "code",
   "execution_count": 16,
   "id": "182bde48",
   "metadata": {},
   "outputs": [],
   "source": [
    "grouped_df = df.groupby('ds_course_enrollment')"
   ]
  },
  {
   "cell_type": "code",
   "execution_count": 17,
   "id": "0a11f920",
   "metadata": {},
   "outputs": [
    {
     "data": {
      "text/plain": [
       "['I am currently enrolled in a Data Science certification course',\n",
       " 'I have completed a Data Science certification course',\n",
       " 'I have never enrolled in any certification courses']"
      ]
     },
     "execution_count": 17,
     "metadata": {},
     "output_type": "execute_result"
    }
   ],
   "source": [
    "group = list(grouped_df.groups.keys())\n",
    "\n",
    "group"
   ]
  },
  {
   "cell_type": "code",
   "execution_count": 18,
   "id": "7edb0145",
   "metadata": {},
   "outputs": [
    {
     "data": {
      "text/plain": [
       "<Axes: ylabel='current_profession'>"
      ]
     },
     "execution_count": 18,
     "metadata": {},
     "output_type": "execute_result"
    },
    {
     "data": {
      "image/png": "[encoded data removed]",
      "text/plain": [
       "<Figure size 640x480 with 1 Axes>"
      ]
     },
     "metadata": {},
     "output_type": "display_data"
    }
   ],
   "source": [
    "# I have never enrolled in any certification courses\n",
    "\n",
    "grouped_df.get_group(group[2])['current_profession'].value_counts().plot(kind='barh')"
   ]
  },
  {
   "cell_type": "markdown",
   "id": "6e934660",
   "metadata": {},
   "source": [
    "#### Another Solution"
   ]
  },
  {
   "cell_type": "code",
   "execution_count": 19,
   "id": "be937c85",
   "metadata": {},
   "outputs": [
    {
     "data": {
      "text/html": [
       "<div>\n",
       "<style scoped>\n",
       "    .dataframe tbody tr th:only-of-type {\n",
       "        vertical-align: middle;\n",
       "    }\n",
       "\n",
       "    .dataframe tbody tr th {\n",
       "        vertical-align: top;\n",
       "    }\n",
       "\n",
       "    .dataframe thead th {\n",
       "        text-align: right;\n",
       "    }\n",
       "</style>\n",
       "<table border=\"1\" class=\"dataframe\">\n",
       "  <thead>\n",
       "    <tr style=\"text-align: right;\">\n",
       "      <th>current_profession</th>\n",
       "      <th>Freelancer (I have completed my Education and working part time or owns a business)</th>\n",
       "      <th>Fresher (I have completed my Education and looking for a job now)</th>\n",
       "      <th>Student (I am currently enrolled in some Educational Program)</th>\n",
       "      <th>Working Professional (I have completed my Education and working full time)</th>\n",
       "    </tr>\n",
       "    <tr>\n",
       "      <th>ds_course_enrollment</th>\n",
       "      <th></th>\n",
       "      <th></th>\n",
       "      <th></th>\n",
       "      <th></th>\n",
       "    </tr>\n",
       "  </thead>\n",
       "  <tbody>\n",
       "    <tr>\n",
       "      <th>I am currently enrolled in a Data Science certification course</th>\n",
       "      <td>0.029630</td>\n",
       "      <td>0.486420</td>\n",
       "      <td>0.417284</td>\n",
       "      <td>0.066667</td>\n",
       "    </tr>\n",
       "    <tr>\n",
       "      <th>I have completed a Data Science certification course</th>\n",
       "      <td>0.037543</td>\n",
       "      <td>0.477816</td>\n",
       "      <td>0.409556</td>\n",
       "      <td>0.075085</td>\n",
       "    </tr>\n",
       "    <tr>\n",
       "      <th>I have never enrolled in any certification courses</th>\n",
       "      <td>0.009934</td>\n",
       "      <td>0.288079</td>\n",
       "      <td>0.658940</td>\n",
       "      <td>0.043046</td>\n",
       "    </tr>\n",
       "  </tbody>\n",
       "</table>\n",
       "</div>"
      ],
      "text/plain": [
       "current_profession                                  Freelancer (I have completed my Education and working part time or owns a business)  \\\n",
       "ds_course_enrollment                                                                                                                      \n",
       "I am currently enrolled in a Data Science certi...                                           0.029630                                     \n",
       "I have completed a Data Science certification c...                                           0.037543                                     \n",
       "I have never enrolled in any certification courses                                           0.009934                                     \n",
       "\n",
       "current_profession                                  Fresher (I have completed my Education and looking for a job now)  \\\n",
       "ds_course_enrollment                                                                                                    \n",
       "I am currently enrolled in a Data Science certi...                                           0.486420                   \n",
       "I have completed a Data Science certification c...                                           0.477816                   \n",
       "I have never enrolled in any certification courses                                           0.288079                   \n",
       "\n",
       "current_profession                                  Student (I am currently enrolled in some Educational Program)  \\\n",
       "ds_course_enrollment                                                                                                \n",
       "I am currently enrolled in a Data Science certi...                                           0.417284               \n",
       "I have completed a Data Science certification c...                                           0.409556               \n",
       "I have never enrolled in any certification courses                                           0.658940               \n",
       "\n",
       "current_profession                                  Working Professional (I have completed my Education and working full time)  \n",
       "ds_course_enrollment                                                                                                            \n",
       "I am currently enrolled in a Data Science certi...                                           0.066667                           \n",
       "I have completed a Data Science certification c...                                           0.075085                           \n",
       "I have never enrolled in any certification courses                                           0.043046                           "
      ]
     },
     "execution_count": 19,
     "metadata": {},
     "output_type": "execute_result"
    }
   ],
   "source": [
    "pd.crosstab(df['ds_course_enrollment'], df['current_profession'], normalize='index')"
   ]
  },
  {
   "cell_type": "code",
   "execution_count": 20,
   "id": "d7b24554",
   "metadata": {},
   "outputs": [
    {
     "data": {
      "text/plain": [
       "<matplotlib.legend.Legend at 0x202f1bf5350>"
      ]
     },
     "execution_count": 20,
     "metadata": {},
     "output_type": "execute_result"
    },
    {
     "data": {
      "image/png": "[encoded data removed]",
      "text/plain": [
       "<Figure size 640x480 with 1 Axes>"
      ]
     },
     "metadata": {},
     "output_type": "display_data"
    }
   ],
   "source": [
    "tab = pd.crosstab(df['ds_course_enrollment'], df['current_profession'], normalize='index')\n",
    "\n",
    "tab.plot(kind='barh')\n",
    "\n",
    "# Display the legend outside the axes\n",
    "plt.legend(bbox_to_anchor=(1,1))"
   ]
  },
  {
   "cell_type": "markdown",
   "id": "62c0ed1e",
   "metadata": {},
   "source": [
    "### **Which skill is the third most important for a data scientist?**"
   ]
  },
  {
   "cell_type": "code",
   "execution_count": 21,
   "id": "48db037f",
   "metadata": {},
   "outputs": [
    {
     "data": {
      "text/plain": [
       "ds_imp_skills\n",
       "Extracting actionable insights from the raw data, Data Modelling, LLMs, MLOps, Basics of backend application development using python, Prompt Engineering    214\n",
       "Extracting actionable insights from the raw data, Data Modelling, MLOps                                                                                       73\n",
       "Extracting actionable insights from the raw data, Data Modelling                                                                                              70\n",
       "Extracting actionable insights from the raw data, Data Modelling, LLMs, MLOps                                                                                 66\n",
       "Extracting actionable insights from the raw data, Data Modelling, Basics of backend application development using python                                      59\n",
       "Extracting actionable insights from the raw data, Data Modelling, MLOps, Basics of backend application development using python                               51\n",
       "Extracting actionable insights from the raw data, Data Modelling, LLMs, MLOps, Basics of backend application development using python                         42\n",
       "Extracting actionable insights from the raw data                                                                                                              41\n",
       "Extracting actionable insights from the raw data, Data Modelling, LLMs, MLOps, Prompt Engineering                                                             31\n",
       "Extracting actionable insights from the raw data, Data Modelling, LLMs                                                                                        31\n",
       "Extracting actionable insights from the raw data, Data Modelling, Basics of backend application development using python, Prompt Engineering                  27\n",
       "Extracting actionable insights from the raw data, Data Modelling, LLMs, Basics of backend application development using python                                25\n",
       "Extracting actionable insights from the raw data, Data Modelling, Prompt Engineering                                                                          25\n",
       "Basics of backend application development using python                                                                                                        20\n",
       "Extracting actionable insights from the raw data, Data Modelling, LLMs, Prompt Engineering                                                                    18\n",
       "Extracting actionable insights from the raw data, Data Modelling, MLOps, Prompt Engineering                                                                   14\n",
       "Data Modelling                                                                                                                                                14\n",
       "Extracting actionable insights from the raw data, Data Modelling, LLMs, Basics of backend application development using python, Prompt Engineering            13\n",
       "LLMs, MLOps, Prompt Engineering                                                                                                                               10\n",
       "Extracting actionable insights from the raw data, LLMs, MLOps                                                                                                 10\n",
       "Data Modelling, LLMs, MLOps                                                                                                                                    9\n",
       "Extracting actionable insights from the raw data, Basics of backend application development using python                                                       8\n",
       "MLOps                                                                                                                                                          8\n",
       "Data Modelling, MLOps, Basics of backend application development using python                                                                                  7\n",
       "Prompt Engineering                                                                                                                                             7\n",
       "Extracting actionable insights from the raw data, LLMs, MLOps, Prompt Engineering                                                                              6\n",
       "Extracting actionable insights from the raw data, MLOps                                                                                                        6\n",
       "Extracting actionable insights from the raw data, Data Modelling, MLOps, Basics of backend application development using python, Prompt Engineering            6\n",
       "Data Modelling, LLMs, MLOps, Prompt Engineering                                                                                                                6\n",
       "LLMs, MLOps                                                                                                                                                    5\n",
       "Basics of backend application development using python, Prompt Engineering                                                                                     5\n",
       "Extracting actionable insights from the raw data, Basics of backend application development using python, Prompt Engineering                                   5\n",
       "Extracting actionable insights from the raw data, LLMs, MLOps, Basics of backend application development using python                                          5\n",
       "Extracting actionable insights from the raw data, LLMs, Prompt Engineering                                                                                     5\n",
       "Data Modelling, Basics of backend application development using python                                                                                         4\n",
       "LLMs                                                                                                                                                           4\n",
       "Data Modelling, LLMs, MLOps, Basics of backend application development using python, Prompt Engineering                                                        4\n",
       "LLMs, MLOps, Basics of backend application development using python, Prompt Engineering                                                                        3\n",
       "Extracting actionable insights from the raw data, MLOps, Prompt Engineering                                                                                    3\n",
       "Extracting actionable insights from the raw data, Prompt Engineering                                                                                           3\n",
       "Data Modelling, LLMs, Basics of backend application development using python, Prompt Engineering                                                               3\n",
       "Data Modelling, LLMs, MLOps, Basics of backend application development using python                                                                            3\n",
       "Data Modelling, LLMs                                                                                                                                           3\n",
       "Extracting actionable insights from the raw data, LLMs, Basics of backend application development using python                                                 3\n",
       "Extracting actionable insights from the raw data, LLMs, MLOps, Basics of backend application development using python, Prompt Engineering                      2\n",
       "Data Modelling, LLMs, Prompt Engineering                                                                                                                       2\n",
       "Extracting actionable insights from the raw data, LLMs                                                                                                         2\n",
       "Data Modelling, MLOps, Basics of backend application development using python, Prompt Engineering                                                              2\n",
       "LLMs, Basics of backend application development using python, Prompt Engineering                                                                               2\n",
       "Extracting actionable insights from the raw data, LLMs, Basics of backend application development using python, Prompt Engineering                             2\n",
       "Data Modelling, MLOps                                                                                                                                          2\n",
       "LLMs, Prompt Engineering                                                                                                                                       2\n",
       "Extracting actionable insights from the raw data, MLOps, Basics of backend application development using python, Prompt Engineering                            2\n",
       "Extracting actionable insights from the raw data, MLOps, Basics of backend application development using python                                                1\n",
       "Data Modelling, MLOps, Prompt Engineering                                                                                                                      1\n",
       "LLMs, Basics of backend application development using python                                                                                                   1\n",
       "LLMs, MLOps, Basics of backend application development using python                                                                                            1\n",
       "MLOps, Basics of backend application development using python                                                                                                  1\n",
       "MLOps, Basics of backend application development using python, Prompt Engineering                                                                              1\n",
       "MLOps, Prompt Engineering                                                                                                                                      1\n",
       "Name: count, dtype: int64"
      ]
     },
     "execution_count": 21,
     "metadata": {},
     "output_type": "execute_result"
    }
   ],
   "source": [
    "df['ds_imp_skills'].value_counts()"
   ]
  },
  {
   "cell_type": "code",
   "execution_count": 22,
   "id": "647dc9a0",
   "metadata": {},
   "outputs": [
    {
     "data": {
      "text/plain": [
       "60"
      ]
     },
     "execution_count": 22,
     "metadata": {},
     "output_type": "execute_result"
    }
   ],
   "source": [
    "df['ds_imp_skills'].nunique()"
   ]
  },
  {
   "cell_type": "markdown",
   "id": "f69c61d5",
   "metadata": {},
   "source": [
    "#### Let's try exploding the column\n",
    "**Note** : Inorder to explode the column, make sure each row contains the list of values."
   ]
  },
  {
   "cell_type": "code",
   "execution_count": 23,
   "id": "90840ffd",
   "metadata": {},
   "outputs": [
    {
     "data": {
      "text/html": [
       "<div>\n",
       "<style scoped>\n",
       "    .dataframe tbody tr th:only-of-type {\n",
       "        vertical-align: middle;\n",
       "    }\n",
       "\n",
       "    .dataframe tbody tr th {\n",
       "        vertical-align: top;\n",
       "    }\n",
       "\n",
       "    .dataframe thead th {\n",
       "        text-align: right;\n",
       "    }\n",
       "</style>\n",
       "<table border=\"1\" class=\"dataframe\">\n",
       "  <thead>\n",
       "    <tr style=\"text-align: right;\">\n",
       "      <th></th>\n",
       "      <th>dob</th>\n",
       "      <th>current_profession</th>\n",
       "      <th>degree_yoc</th>\n",
       "      <th>ds_course_enrollment</th>\n",
       "      <th>ds_course_institute</th>\n",
       "      <th>innomatics_batch_number</th>\n",
       "      <th>internship_timing_preference</th>\n",
       "      <th>ds_imp_skills</th>\n",
       "    </tr>\n",
       "  </thead>\n",
       "  <tbody>\n",
       "    <tr>\n",
       "      <th>0</th>\n",
       "      <td>9/16/2000</td>\n",
       "      <td>Fresher (I have completed my Education and loo...</td>\n",
       "      <td>7/30/2023</td>\n",
       "      <td>I am currently enrolled in a Data Science cert...</td>\n",
       "      <td>Innomatics Research Labs</td>\n",
       "      <td>251</td>\n",
       "      <td>6:00 to 7:00 PM IST</td>\n",
       "      <td>[Extracting actionable insights from the raw d...</td>\n",
       "    </tr>\n",
       "    <tr>\n",
       "      <th>1</th>\n",
       "      <td>2/6/1998</td>\n",
       "      <td>Fresher (I have completed my Education and loo...</td>\n",
       "      <td>5/18/2022</td>\n",
       "      <td>I have never enrolled in any certification cou...</td>\n",
       "      <td>NaN</td>\n",
       "      <td>NaN</td>\n",
       "      <td>6:00 to 7:00 PM IST</td>\n",
       "      <td>[Extracting actionable insights from the raw d...</td>\n",
       "    </tr>\n",
       "    <tr>\n",
       "      <th>2</th>\n",
       "      <td>10/8/2003</td>\n",
       "      <td>Student (I am currently enrolled in some Educa...</td>\n",
       "      <td>4/1/2025</td>\n",
       "      <td>I am currently enrolled in a Data Science cert...</td>\n",
       "      <td>NaN</td>\n",
       "      <td>NaN</td>\n",
       "      <td>6:00 to 7:00 PM IST</td>\n",
       "      <td>[Data Modelling]</td>\n",
       "    </tr>\n",
       "    <tr>\n",
       "      <th>3</th>\n",
       "      <td>11/29/2001</td>\n",
       "      <td>Student (I am currently enrolled in some Educa...</td>\n",
       "      <td>5/15/2024</td>\n",
       "      <td>I have never enrolled in any certification cou...</td>\n",
       "      <td>NaN</td>\n",
       "      <td>NaN</td>\n",
       "      <td>5:00 to 6:00 PM IST</td>\n",
       "      <td>[Extracting actionable insights from the raw d...</td>\n",
       "    </tr>\n",
       "    <tr>\n",
       "      <th>4</th>\n",
       "      <td>11/25/2004</td>\n",
       "      <td>Student (I am currently enrolled in some Educa...</td>\n",
       "      <td>1/10/2026</td>\n",
       "      <td>I have completed a Data Science certification ...</td>\n",
       "      <td>Velagapudi ramakrishna Siddhartha college</td>\n",
       "      <td>Na</td>\n",
       "      <td>6:00 to 7:00 PM IST</td>\n",
       "      <td>[Extracting actionable insights from the raw d...</td>\n",
       "    </tr>\n",
       "  </tbody>\n",
       "</table>\n",
       "</div>"
      ],
      "text/plain": [
       "          dob                                 current_profession degree_yoc  \\\n",
       "0   9/16/2000  Fresher (I have completed my Education and loo...  7/30/2023   \n",
       "1    2/6/1998  Fresher (I have completed my Education and loo...  5/18/2022   \n",
       "2   10/8/2003  Student (I am currently enrolled in some Educa...   4/1/2025   \n",
       "3  11/29/2001  Student (I am currently enrolled in some Educa...  5/15/2024   \n",
       "4  11/25/2004  Student (I am currently enrolled in some Educa...  1/10/2026   \n",
       "\n",
       "                                ds_course_enrollment  \\\n",
       "0  I am currently enrolled in a Data Science cert...   \n",
       "1  I have never enrolled in any certification cou...   \n",
       "2  I am currently enrolled in a Data Science cert...   \n",
       "3  I have never enrolled in any certification cou...   \n",
       "4  I have completed a Data Science certification ...   \n",
       "\n",
       "                          ds_course_institute innomatics_batch_number  \\\n",
       "0                    Innomatics Research Labs                     251   \n",
       "1                                         NaN                     NaN   \n",
       "2                                         NaN                     NaN   \n",
       "3                                         NaN                     NaN   \n",
       "4  Velagapudi ramakrishna Siddhartha college                       Na   \n",
       "\n",
       "  internship_timing_preference  \\\n",
       "0          6:00 to 7:00 PM IST   \n",
       "1          6:00 to 7:00 PM IST   \n",
       "2          6:00 to 7:00 PM IST   \n",
       "3          5:00 to 6:00 PM IST   \n",
       "4          6:00 to 7:00 PM IST   \n",
       "\n",
       "                                       ds_imp_skills  \n",
       "0  [Extracting actionable insights from the raw d...  \n",
       "1  [Extracting actionable insights from the raw d...  \n",
       "2                                   [Data Modelling]  \n",
       "3  [Extracting actionable insights from the raw d...  \n",
       "4  [Extracting actionable insights from the raw d...  "
      ]
     },
     "execution_count": 23,
     "metadata": {},
     "output_type": "execute_result"
    }
   ],
   "source": [
    "# cleaning the data for better analysis\n",
    "\n",
    "# convert to list type - take each string and apply split()\n",
    "df['ds_imp_skills'] = df['ds_imp_skills'].apply(lambda skills: skills.split(','))\n",
    "\n",
    "df.head()"
   ]
  },
  {
   "cell_type": "code",
   "execution_count": 24,
   "id": "eb5e826a",
   "metadata": {},
   "outputs": [
    {
     "data": {
      "text/html": [
       "<div>\n",
       "<style scoped>\n",
       "    .dataframe tbody tr th:only-of-type {\n",
       "        vertical-align: middle;\n",
       "    }\n",
       "\n",
       "    .dataframe tbody tr th {\n",
       "        vertical-align: top;\n",
       "    }\n",
       "\n",
       "    .dataframe thead th {\n",
       "        text-align: right;\n",
       "    }\n",
       "</style>\n",
       "<table border=\"1\" class=\"dataframe\">\n",
       "  <thead>\n",
       "    <tr style=\"text-align: right;\">\n",
       "      <th></th>\n",
       "      <th>dob</th>\n",
       "      <th>current_profession</th>\n",
       "      <th>degree_yoc</th>\n",
       "      <th>ds_course_enrollment</th>\n",
       "      <th>ds_course_institute</th>\n",
       "      <th>innomatics_batch_number</th>\n",
       "      <th>internship_timing_preference</th>\n",
       "      <th>ds_imp_skills</th>\n",
       "    </tr>\n",
       "  </thead>\n",
       "  <tbody>\n",
       "    <tr>\n",
       "      <th>0</th>\n",
       "      <td>9/16/2000</td>\n",
       "      <td>Fresher (I have completed my Education and loo...</td>\n",
       "      <td>7/30/2023</td>\n",
       "      <td>I am currently enrolled in a Data Science cert...</td>\n",
       "      <td>Innomatics Research Labs</td>\n",
       "      <td>251</td>\n",
       "      <td>6:00 to 7:00 PM IST</td>\n",
       "      <td>Extracting actionable insights from the raw data</td>\n",
       "    </tr>\n",
       "    <tr>\n",
       "      <th>0</th>\n",
       "      <td>9/16/2000</td>\n",
       "      <td>Fresher (I have completed my Education and loo...</td>\n",
       "      <td>7/30/2023</td>\n",
       "      <td>I am currently enrolled in a Data Science cert...</td>\n",
       "      <td>Innomatics Research Labs</td>\n",
       "      <td>251</td>\n",
       "      <td>6:00 to 7:00 PM IST</td>\n",
       "      <td>Data Modelling</td>\n",
       "    </tr>\n",
       "    <tr>\n",
       "      <th>0</th>\n",
       "      <td>9/16/2000</td>\n",
       "      <td>Fresher (I have completed my Education and loo...</td>\n",
       "      <td>7/30/2023</td>\n",
       "      <td>I am currently enrolled in a Data Science cert...</td>\n",
       "      <td>Innomatics Research Labs</td>\n",
       "      <td>251</td>\n",
       "      <td>6:00 to 7:00 PM IST</td>\n",
       "      <td>LLMs</td>\n",
       "    </tr>\n",
       "    <tr>\n",
       "      <th>0</th>\n",
       "      <td>9/16/2000</td>\n",
       "      <td>Fresher (I have completed my Education and loo...</td>\n",
       "      <td>7/30/2023</td>\n",
       "      <td>I am currently enrolled in a Data Science cert...</td>\n",
       "      <td>Innomatics Research Labs</td>\n",
       "      <td>251</td>\n",
       "      <td>6:00 to 7:00 PM IST</td>\n",
       "      <td>MLOps</td>\n",
       "    </tr>\n",
       "    <tr>\n",
       "      <th>0</th>\n",
       "      <td>9/16/2000</td>\n",
       "      <td>Fresher (I have completed my Education and loo...</td>\n",
       "      <td>7/30/2023</td>\n",
       "      <td>I am currently enrolled in a Data Science cert...</td>\n",
       "      <td>Innomatics Research Labs</td>\n",
       "      <td>251</td>\n",
       "      <td>6:00 to 7:00 PM IST</td>\n",
       "      <td>Basics of backend application development usi...</td>\n",
       "    </tr>\n",
       "    <tr>\n",
       "      <th>1</th>\n",
       "      <td>2/6/1998</td>\n",
       "      <td>Fresher (I have completed my Education and loo...</td>\n",
       "      <td>5/18/2022</td>\n",
       "      <td>I have never enrolled in any certification cou...</td>\n",
       "      <td>NaN</td>\n",
       "      <td>NaN</td>\n",
       "      <td>6:00 to 7:00 PM IST</td>\n",
       "      <td>Extracting actionable insights from the raw data</td>\n",
       "    </tr>\n",
       "    <tr>\n",
       "      <th>2</th>\n",
       "      <td>10/8/2003</td>\n",
       "      <td>Student (I am currently enrolled in some Educa...</td>\n",
       "      <td>4/1/2025</td>\n",
       "      <td>I am currently enrolled in a Data Science cert...</td>\n",
       "      <td>NaN</td>\n",
       "      <td>NaN</td>\n",
       "      <td>6:00 to 7:00 PM IST</td>\n",
       "      <td>Data Modelling</td>\n",
       "    </tr>\n",
       "    <tr>\n",
       "      <th>3</th>\n",
       "      <td>11/29/2001</td>\n",
       "      <td>Student (I am currently enrolled in some Educa...</td>\n",
       "      <td>5/15/2024</td>\n",
       "      <td>I have never enrolled in any certification cou...</td>\n",
       "      <td>NaN</td>\n",
       "      <td>NaN</td>\n",
       "      <td>5:00 to 6:00 PM IST</td>\n",
       "      <td>Extracting actionable insights from the raw data</td>\n",
       "    </tr>\n",
       "    <tr>\n",
       "      <th>3</th>\n",
       "      <td>11/29/2001</td>\n",
       "      <td>Student (I am currently enrolled in some Educa...</td>\n",
       "      <td>5/15/2024</td>\n",
       "      <td>I have never enrolled in any certification cou...</td>\n",
       "      <td>NaN</td>\n",
       "      <td>NaN</td>\n",
       "      <td>5:00 to 6:00 PM IST</td>\n",
       "      <td>Data Modelling</td>\n",
       "    </tr>\n",
       "    <tr>\n",
       "      <th>4</th>\n",
       "      <td>11/25/2004</td>\n",
       "      <td>Student (I am currently enrolled in some Educa...</td>\n",
       "      <td>1/10/2026</td>\n",
       "      <td>I have completed a Data Science certification ...</td>\n",
       "      <td>Velagapudi ramakrishna Siddhartha college</td>\n",
       "      <td>Na</td>\n",
       "      <td>6:00 to 7:00 PM IST</td>\n",
       "      <td>Extracting actionable insights from the raw data</td>\n",
       "    </tr>\n",
       "  </tbody>\n",
       "</table>\n",
       "</div>"
      ],
      "text/plain": [
       "          dob                                 current_profession degree_yoc  \\\n",
       "0   9/16/2000  Fresher (I have completed my Education and loo...  7/30/2023   \n",
       "0   9/16/2000  Fresher (I have completed my Education and loo...  7/30/2023   \n",
       "0   9/16/2000  Fresher (I have completed my Education and loo...  7/30/2023   \n",
       "0   9/16/2000  Fresher (I have completed my Education and loo...  7/30/2023   \n",
       "0   9/16/2000  Fresher (I have completed my Education and loo...  7/30/2023   \n",
       "1    2/6/1998  Fresher (I have completed my Education and loo...  5/18/2022   \n",
       "2   10/8/2003  Student (I am currently enrolled in some Educa...   4/1/2025   \n",
       "3  11/29/2001  Student (I am currently enrolled in some Educa...  5/15/2024   \n",
       "3  11/29/2001  Student (I am currently enrolled in some Educa...  5/15/2024   \n",
       "4  11/25/2004  Student (I am currently enrolled in some Educa...  1/10/2026   \n",
       "\n",
       "                                ds_course_enrollment  \\\n",
       "0  I am currently enrolled in a Data Science cert...   \n",
       "0  I am currently enrolled in a Data Science cert...   \n",
       "0  I am currently enrolled in a Data Science cert...   \n",
       "0  I am currently enrolled in a Data Science cert...   \n",
       "0  I am currently enrolled in a Data Science cert...   \n",
       "1  I have never enrolled in any certification cou...   \n",
       "2  I am currently enrolled in a Data Science cert...   \n",
       "3  I have never enrolled in any certification cou...   \n",
       "3  I have never enrolled in any certification cou...   \n",
       "4  I have completed a Data Science certification ...   \n",
       "\n",
       "                          ds_course_institute innomatics_batch_number  \\\n",
       "0                    Innomatics Research Labs                     251   \n",
       "0                    Innomatics Research Labs                     251   \n",
       "0                    Innomatics Research Labs                     251   \n",
       "0                    Innomatics Research Labs                     251   \n",
       "0                    Innomatics Research Labs                     251   \n",
       "1                                         NaN                     NaN   \n",
       "2                                         NaN                     NaN   \n",
       "3                                         NaN                     NaN   \n",
       "3                                         NaN                     NaN   \n",
       "4  Velagapudi ramakrishna Siddhartha college                       Na   \n",
       "\n",
       "  internship_timing_preference  \\\n",
       "0          6:00 to 7:00 PM IST   \n",
       "0          6:00 to 7:00 PM IST   \n",
       "0          6:00 to 7:00 PM IST   \n",
       "0          6:00 to 7:00 PM IST   \n",
       "0          6:00 to 7:00 PM IST   \n",
       "1          6:00 to 7:00 PM IST   \n",
       "2          6:00 to 7:00 PM IST   \n",
       "3          5:00 to 6:00 PM IST   \n",
       "3          5:00 to 6:00 PM IST   \n",
       "4          6:00 to 7:00 PM IST   \n",
       "\n",
       "                                       ds_imp_skills  \n",
       "0   Extracting actionable insights from the raw data  \n",
       "0                                     Data Modelling  \n",
       "0                                               LLMs  \n",
       "0                                              MLOps  \n",
       "0   Basics of backend application development usi...  \n",
       "1   Extracting actionable insights from the raw data  \n",
       "2                                     Data Modelling  \n",
       "3   Extracting actionable insights from the raw data  \n",
       "3                                     Data Modelling  \n",
       "4   Extracting actionable insights from the raw data  "
      ]
     },
     "execution_count": 24,
     "metadata": {},
     "output_type": "execute_result"
    }
   ],
   "source": [
    "exploded_df = df.explode('ds_imp_skills')\n",
    "\n",
    "exploded_df.head(10)"
   ]
  },
  {
   "cell_type": "code",
   "execution_count": 25,
   "id": "c26f952f",
   "metadata": {},
   "outputs": [
    {
     "data": {
      "text/plain": [
       "ds_imp_skills\n",
       "Extracting actionable insights from the raw data           869\n",
       " Data Modelling                                            765\n",
       " MLOps                                                     585\n",
       " LLMs                                                      505\n",
       " Basics of backend application development using python    497\n",
       " Prompt Engineering                                        418\n",
       "Data Modelling                                              60\n",
       "LLMs                                                        28\n",
       "Basics of backend application development using python      25\n",
       "MLOps                                                       11\n",
       "Prompt Engineering                                           7\n",
       "Name: count, dtype: int64"
      ]
     },
     "execution_count": 25,
     "metadata": {},
     "output_type": "execute_result"
    }
   ],
   "source": [
    "exploded_df['ds_imp_skills'].value_counts()"
   ]
  },
  {
   "cell_type": "code",
   "execution_count": 26,
   "id": "87848d9e",
   "metadata": {},
   "outputs": [
    {
     "data": {
      "text/plain": [
       "ds_imp_skills\n",
       "Extracting actionable insights from the raw data          869\n",
       "Data Modelling                                            825\n",
       "MLOps                                                     596\n",
       "LLMs                                                      533\n",
       "Basics of backend application development using python    522\n",
       "Prompt Engineering                                        425\n",
       "Name: count, dtype: int64"
      ]
     },
     "execution_count": 26,
     "metadata": {},
     "output_type": "execute_result"
    }
   ],
   "source": [
    "exploded_df['ds_imp_skills'] = exploded_df['ds_imp_skills'].str.strip()\n",
    "\n",
    "exploded_df['ds_imp_skills'].value_counts()"
   ]
  },
  {
   "cell_type": "code",
   "execution_count": 27,
   "id": "110acf39",
   "metadata": {},
   "outputs": [
    {
     "data": {
      "text/plain": [
       "'MLOps'"
      ]
     },
     "execution_count": 27,
     "metadata": {},
     "output_type": "execute_result"
    }
   ],
   "source": [
    "exploded_df['ds_imp_skills'].value_counts().index[2]"
   ]
  },
  {
   "cell_type": "code",
   "execution_count": 28,
   "id": "40b89cea",
   "metadata": {},
   "outputs": [
    {
     "name": "stderr",
     "output_type": "stream",
     "text": [
      "C:\\Users\\hanna\\AppData\\Local\\Temp\\ipykernel_3240\\2328806634.py:4: SettingWithCopyWarning: \n",
      "A value is trying to be set on a copy of a slice from a DataFrame.\n",
      "Try using .loc[row_indexer,col_indexer] = value instead\n",
      "\n",
      "See the caveats in the documentation: https://pandas.pydata.org/pandas-docs/stable/user_guide/indexing.html#returning-a-view-versus-a-copy\n",
      "  df_no_dup['ds_imp_skills'] = df_no_dup['ds_imp_skills'].apply(lambda skills: skills.split(\",\"))\n"
     ]
    },
    {
     "data": {
      "text/plain": [
       "'MLOps'"
      ]
     },
     "execution_count": 28,
     "metadata": {},
     "output_type": "execute_result"
    }
   ],
   "source": [
    "# Without duplicate\n",
    "\n",
    "# Convert to list\n",
    "df_no_dup['ds_imp_skills'] = df_no_dup['ds_imp_skills'].apply(lambda skills: skills.split(\",\"))\n",
    "\n",
    "# Exploding\n",
    "exploded_df_no_dup = df_no_dup.explode('ds_imp_skills')\n",
    "\n",
    "# Futher Cleaning\n",
    "exploded_df_no_dup['ds_imp_skills'] = exploded_df_no_dup['ds_imp_skills'].str.strip()\n",
    "\n",
    "# Third most important skill\n",
    "exploded_df_no_dup['ds_imp_skills'].value_counts().index[2]"
   ]
  },
  {
   "cell_type": "markdown",
   "id": "86304cb8",
   "metadata": {},
   "source": [
    "### **How many interns selected “Prompt Engineering” as the most important skill?**"
   ]
  },
  {
   "cell_type": "code",
   "execution_count": 29,
   "id": "1b63c984",
   "metadata": {},
   "outputs": [
    {
     "data": {
      "text/plain": [
       "425"
      ]
     },
     "execution_count": 29,
     "metadata": {},
     "output_type": "execute_result"
    }
   ],
   "source": [
    "exploded_df['ds_imp_skills'].value_counts()['Prompt Engineering']"
   ]
  },
  {
   "cell_type": "code",
   "execution_count": 30,
   "id": "b5bc7e39",
   "metadata": {},
   "outputs": [
    {
     "data": {
      "text/plain": [
       "424"
      ]
     },
     "execution_count": 30,
     "metadata": {},
     "output_type": "execute_result"
    }
   ],
   "source": [
    "# Without duplicate\n",
    "\n",
    "exploded_df_no_dup['ds_imp_skills'].value_counts()['Prompt Engineering']"
   ]
  },
  {
   "cell_type": "markdown",
   "id": "66ba0856",
   "metadata": {},
   "source": [
    "## **Let’s now analyze the age groups of fellow interns.**"
   ]
  },
  {
   "cell_type": "markdown",
   "id": "907d8926",
   "metadata": {},
   "source": [
    "### **What is the minimum age of an intern at Innomatics Research Labs?**\n",
    "Note: Answer it without cleaning the data."
   ]
  },
  {
   "cell_type": "code",
   "execution_count": 31,
   "id": "20e2059e",
   "metadata": {},
   "outputs": [
    {
     "name": "stdout",
     "output_type": "stream",
     "text": [
      "<class 'pandas.core.frame.DataFrame'>\n",
      "RangeIndex: 1000 entries, 0 to 999\n",
      "Data columns (total 8 columns):\n",
      " #   Column                        Non-Null Count  Dtype \n",
      "---  ------                        --------------  ----- \n",
      " 0   dob                           1000 non-null   object\n",
      " 1   current_profession            1000 non-null   object\n",
      " 2   degree_yoc                    1000 non-null   object\n",
      " 3   ds_course_enrollment          1000 non-null   object\n",
      " 4   ds_course_institute           678 non-null    object\n",
      " 5   innomatics_batch_number       338 non-null    object\n",
      " 6   internship_timing_preference  1000 non-null   object\n",
      " 7   ds_imp_skills                 1000 non-null   object\n",
      "dtypes: object(8)\n",
      "memory usage: 62.6+ KB\n"
     ]
    }
   ],
   "source": [
    "df.info()"
   ]
  },
  {
   "cell_type": "code",
   "execution_count": 32,
   "id": "0d56182c",
   "metadata": {},
   "outputs": [],
   "source": [
    "df['dob'] = pd.to_datetime(df['dob'])"
   ]
  },
  {
   "cell_type": "code",
   "execution_count": 33,
   "id": "28b7c3b6",
   "metadata": {},
   "outputs": [
    {
     "name": "stdout",
     "output_type": "stream",
     "text": [
      "<class 'pandas.core.frame.DataFrame'>\n",
      "RangeIndex: 1000 entries, 0 to 999\n",
      "Data columns (total 8 columns):\n",
      " #   Column                        Non-Null Count  Dtype         \n",
      "---  ------                        --------------  -----         \n",
      " 0   dob                           1000 non-null   datetime64[ns]\n",
      " 1   current_profession            1000 non-null   object        \n",
      " 2   degree_yoc                    1000 non-null   object        \n",
      " 3   ds_course_enrollment          1000 non-null   object        \n",
      " 4   ds_course_institute           678 non-null    object        \n",
      " 5   innomatics_batch_number       338 non-null    object        \n",
      " 6   internship_timing_preference  1000 non-null   object        \n",
      " 7   ds_imp_skills                 1000 non-null   object        \n",
      "dtypes: datetime64[ns](1), object(7)\n",
      "memory usage: 62.6+ KB\n"
     ]
    }
   ],
   "source": [
    "df.info()"
   ]
  },
  {
   "cell_type": "code",
   "execution_count": 34,
   "id": "ca9f3dd1",
   "metadata": {},
   "outputs": [],
   "source": [
    "# Extract age from DOB\n",
    "\n",
    "today = pd.to_datetime('today')\n",
    "\n",
    "#bias means Error (1 nov 2023 => age=1)\n",
    "df['age_1'] = today.year - df['dob'].dt.year\n",
    "\n",
    "#accurate (1 nov 2023 => age=0)\n",
    "df['age_2'] = df['dob'].apply(lambda birthday: today.year - birthday.year - ((today.month, today.day) < (birthday.month, birthday.day)))"
   ]
  },
  {
   "cell_type": "code",
   "execution_count": 35,
   "id": "ae0b6ffc",
   "metadata": {},
   "outputs": [
    {
     "data": {
      "text/html": [
       "<div>\n",
       "<style scoped>\n",
       "    .dataframe tbody tr th:only-of-type {\n",
       "        vertical-align: middle;\n",
       "    }\n",
       "\n",
       "    .dataframe tbody tr th {\n",
       "        vertical-align: top;\n",
       "    }\n",
       "\n",
       "    .dataframe thead th {\n",
       "        text-align: right;\n",
       "    }\n",
       "</style>\n",
       "<table border=\"1\" class=\"dataframe\">\n",
       "  <thead>\n",
       "    <tr style=\"text-align: right;\">\n",
       "      <th></th>\n",
       "      <th>dob</th>\n",
       "      <th>age_1</th>\n",
       "      <th>age_2</th>\n",
       "    </tr>\n",
       "  </thead>\n",
       "  <tbody>\n",
       "    <tr>\n",
       "      <th>count</th>\n",
       "      <td>1000</td>\n",
       "      <td>1000.00000</td>\n",
       "      <td>1000.000000</td>\n",
       "    </tr>\n",
       "    <tr>\n",
       "      <th>mean</th>\n",
       "      <td>2001-03-10 09:36:00</td>\n",
       "      <td>23.32500</td>\n",
       "      <td>22.632000</td>\n",
       "    </tr>\n",
       "    <tr>\n",
       "      <th>min</th>\n",
       "      <td>1980-06-06 00:00:00</td>\n",
       "      <td>0.00000</td>\n",
       "      <td>-1.000000</td>\n",
       "    </tr>\n",
       "    <tr>\n",
       "      <th>25%</th>\n",
       "      <td>2000-04-15 18:00:00</td>\n",
       "      <td>21.00000</td>\n",
       "      <td>21.000000</td>\n",
       "    </tr>\n",
       "    <tr>\n",
       "      <th>50%</th>\n",
       "      <td>2001-10-18 00:00:00</td>\n",
       "      <td>23.00000</td>\n",
       "      <td>22.000000</td>\n",
       "    </tr>\n",
       "    <tr>\n",
       "      <th>75%</th>\n",
       "      <td>2003-01-10 00:00:00</td>\n",
       "      <td>24.00000</td>\n",
       "      <td>24.000000</td>\n",
       "    </tr>\n",
       "    <tr>\n",
       "      <th>max</th>\n",
       "      <td>2024-10-19 00:00:00</td>\n",
       "      <td>44.00000</td>\n",
       "      <td>43.000000</td>\n",
       "    </tr>\n",
       "    <tr>\n",
       "      <th>std</th>\n",
       "      <td>NaN</td>\n",
       "      <td>3.29822</td>\n",
       "      <td>3.312635</td>\n",
       "    </tr>\n",
       "  </tbody>\n",
       "</table>\n",
       "</div>"
      ],
      "text/plain": [
       "                       dob       age_1        age_2\n",
       "count                 1000  1000.00000  1000.000000\n",
       "mean   2001-03-10 09:36:00    23.32500    22.632000\n",
       "min    1980-06-06 00:00:00     0.00000    -1.000000\n",
       "25%    2000-04-15 18:00:00    21.00000    21.000000\n",
       "50%    2001-10-18 00:00:00    23.00000    22.000000\n",
       "75%    2003-01-10 00:00:00    24.00000    24.000000\n",
       "max    2024-10-19 00:00:00    44.00000    43.000000\n",
       "std                    NaN     3.29822     3.312635"
      ]
     },
     "execution_count": 35,
     "metadata": {},
     "output_type": "execute_result"
    }
   ],
   "source": [
    "df.describe()"
   ]
  },
  {
   "cell_type": "code",
   "execution_count": 36,
   "id": "be6822b5",
   "metadata": {},
   "outputs": [
    {
     "data": {
      "text/plain": [
       "<Axes: ylabel='Frequency'>"
      ]
     },
     "execution_count": 36,
     "metadata": {},
     "output_type": "execute_result"
    },
    {
     "data": {
      "image/png": "[encoded data removed]",
      "text/plain": [
       "<Figure size 640x480 with 1 Axes>"
      ]
     },
     "metadata": {},
     "output_type": "display_data"
    }
   ],
   "source": [
    "df['age_1'].plot(kind='hist')"
   ]
  },
  {
   "cell_type": "code",
   "execution_count": 37,
   "id": "90a1f93d",
   "metadata": {},
   "outputs": [
    {
     "data": {
      "text/plain": [
       "<Axes: >"
      ]
     },
     "execution_count": 37,
     "metadata": {},
     "output_type": "execute_result"
    },
    {
     "data": {
      "image/png": "[encoded data removed]",
      "text/plain": [
       "<Figure size 640x480 with 1 Axes>"
      ]
     },
     "metadata": {},
     "output_type": "display_data"
    }
   ],
   "source": [
    "df['age_1'].plot(kind='box')"
   ]
  },
  {
   "cell_type": "code",
   "execution_count": 38,
   "id": "e4fb8247",
   "metadata": {},
   "outputs": [
    {
     "data": {
      "text/html": [
       "<div>\n",
       "<style scoped>\n",
       "    .dataframe tbody tr th:only-of-type {\n",
       "        vertical-align: middle;\n",
       "    }\n",
       "\n",
       "    .dataframe tbody tr th {\n",
       "        vertical-align: top;\n",
       "    }\n",
       "\n",
       "    .dataframe thead th {\n",
       "        text-align: right;\n",
       "    }\n",
       "</style>\n",
       "<table border=\"1\" class=\"dataframe\">\n",
       "  <thead>\n",
       "    <tr style=\"text-align: right;\">\n",
       "      <th></th>\n",
       "      <th>dob</th>\n",
       "      <th>current_profession</th>\n",
       "      <th>age_1</th>\n",
       "      <th>age_2</th>\n",
       "    </tr>\n",
       "  </thead>\n",
       "  <tbody>\n",
       "    <tr>\n",
       "      <th>112</th>\n",
       "      <td>2024-10-19</td>\n",
       "      <td>Student (I am currently enrolled in some Educa...</td>\n",
       "      <td>0</td>\n",
       "      <td>-1</td>\n",
       "    </tr>\n",
       "    <tr>\n",
       "      <th>307</th>\n",
       "      <td>2024-01-16</td>\n",
       "      <td>Working Professional (I have completed my Educ...</td>\n",
       "      <td>0</td>\n",
       "      <td>0</td>\n",
       "    </tr>\n",
       "    <tr>\n",
       "      <th>536</th>\n",
       "      <td>2024-05-13</td>\n",
       "      <td>Student (I am currently enrolled in some Educa...</td>\n",
       "      <td>0</td>\n",
       "      <td>-1</td>\n",
       "    </tr>\n",
       "  </tbody>\n",
       "</table>\n",
       "</div>"
      ],
      "text/plain": [
       "           dob                                 current_profession  age_1  \\\n",
       "112 2024-10-19  Student (I am currently enrolled in some Educa...      0   \n",
       "307 2024-01-16  Working Professional (I have completed my Educ...      0   \n",
       "536 2024-05-13  Student (I am currently enrolled in some Educa...      0   \n",
       "\n",
       "     age_2  \n",
       "112     -1  \n",
       "307      0  \n",
       "536     -1  "
      ]
     },
     "execution_count": 38,
     "metadata": {},
     "output_type": "execute_result"
    }
   ],
   "source": [
    "df.loc[df['age_2'] <=0, ['dob', 'current_profession', 'age_1', 'age_2']]"
   ]
  },
  {
   "cell_type": "code",
   "execution_count": 39,
   "id": "3fd3f7a2",
   "metadata": {},
   "outputs": [
    {
     "data": {
      "text/html": [
       "<div>\n",
       "<style scoped>\n",
       "    .dataframe tbody tr th:only-of-type {\n",
       "        vertical-align: middle;\n",
       "    }\n",
       "\n",
       "    .dataframe tbody tr th {\n",
       "        vertical-align: top;\n",
       "    }\n",
       "\n",
       "    .dataframe thead th {\n",
       "        text-align: right;\n",
       "    }\n",
       "</style>\n",
       "<table border=\"1\" class=\"dataframe\">\n",
       "  <thead>\n",
       "    <tr style=\"text-align: right;\">\n",
       "      <th></th>\n",
       "      <th>dob</th>\n",
       "      <th>age_1</th>\n",
       "      <th>age_2</th>\n",
       "    </tr>\n",
       "  </thead>\n",
       "  <tbody>\n",
       "    <tr>\n",
       "      <th>count</th>\n",
       "      <td>997</td>\n",
       "      <td>997.000000</td>\n",
       "      <td>997.000000</td>\n",
       "    </tr>\n",
       "    <tr>\n",
       "      <th>mean</th>\n",
       "      <td>2001-02-12 21:19:40.742226560</td>\n",
       "      <td>23.395186</td>\n",
       "      <td>22.702106</td>\n",
       "    </tr>\n",
       "    <tr>\n",
       "      <th>min</th>\n",
       "      <td>1980-06-06 00:00:00</td>\n",
       "      <td>17.000000</td>\n",
       "      <td>16.000000</td>\n",
       "    </tr>\n",
       "    <tr>\n",
       "      <th>25%</th>\n",
       "      <td>2000-04-09 00:00:00</td>\n",
       "      <td>21.000000</td>\n",
       "      <td>21.000000</td>\n",
       "    </tr>\n",
       "    <tr>\n",
       "      <th>50%</th>\n",
       "      <td>2001-10-15 00:00:00</td>\n",
       "      <td>23.000000</td>\n",
       "      <td>22.000000</td>\n",
       "    </tr>\n",
       "    <tr>\n",
       "      <th>75%</th>\n",
       "      <td>2003-01-02 00:00:00</td>\n",
       "      <td>24.000000</td>\n",
       "      <td>24.000000</td>\n",
       "    </tr>\n",
       "    <tr>\n",
       "      <th>max</th>\n",
       "      <td>2007-07-23 00:00:00</td>\n",
       "      <td>44.000000</td>\n",
       "      <td>43.000000</td>\n",
       "    </tr>\n",
       "    <tr>\n",
       "      <th>std</th>\n",
       "      <td>NaN</td>\n",
       "      <td>3.044235</td>\n",
       "      <td>3.060390</td>\n",
       "    </tr>\n",
       "  </tbody>\n",
       "</table>\n",
       "</div>"
      ],
      "text/plain": [
       "                                 dob       age_1       age_2\n",
       "count                            997  997.000000  997.000000\n",
       "mean   2001-02-12 21:19:40.742226560   23.395186   22.702106\n",
       "min              1980-06-06 00:00:00   17.000000   16.000000\n",
       "25%              2000-04-09 00:00:00   21.000000   21.000000\n",
       "50%              2001-10-15 00:00:00   23.000000   22.000000\n",
       "75%              2003-01-02 00:00:00   24.000000   24.000000\n",
       "max              2007-07-23 00:00:00   44.000000   43.000000\n",
       "std                              NaN    3.044235    3.060390"
      ]
     },
     "execution_count": 39,
     "metadata": {},
     "output_type": "execute_result"
    }
   ],
   "source": [
    "# Without outliers\n",
    "\n",
    "df[df['age_2']>0].describe()"
   ]
  },
  {
   "cell_type": "code",
   "execution_count": 40,
   "id": "e1f77561",
   "metadata": {},
   "outputs": [
    {
     "name": "stderr",
     "output_type": "stream",
     "text": [
      "C:\\Users\\hanna\\AppData\\Local\\Temp\\ipykernel_3240\\3539843959.py:3: SettingWithCopyWarning: \n",
      "A value is trying to be set on a copy of a slice from a DataFrame.\n",
      "Try using .loc[row_indexer,col_indexer] = value instead\n",
      "\n",
      "See the caveats in the documentation: https://pandas.pydata.org/pandas-docs/stable/user_guide/indexing.html#returning-a-view-versus-a-copy\n",
      "  df_no_dup['dob'] = pd.to_datetime(df_no_dup['dob'])\n",
      "C:\\Users\\hanna\\AppData\\Local\\Temp\\ipykernel_3240\\3539843959.py:7: SettingWithCopyWarning: \n",
      "A value is trying to be set on a copy of a slice from a DataFrame.\n",
      "Try using .loc[row_indexer,col_indexer] = value instead\n",
      "\n",
      "See the caveats in the documentation: https://pandas.pydata.org/pandas-docs/stable/user_guide/indexing.html#returning-a-view-versus-a-copy\n",
      "  df_no_dup['age_1'] = today.year - df_no_dup['dob'].dt.year\n",
      "C:\\Users\\hanna\\AppData\\Local\\Temp\\ipykernel_3240\\3539843959.py:9: SettingWithCopyWarning: \n",
      "A value is trying to be set on a copy of a slice from a DataFrame.\n",
      "Try using .loc[row_indexer,col_indexer] = value instead\n",
      "\n",
      "See the caveats in the documentation: https://pandas.pydata.org/pandas-docs/stable/user_guide/indexing.html#returning-a-view-versus-a-copy\n",
      "  df_no_dup['age_2'] = df_no_dup['dob'].apply(lambda birthday: today.year - birthday.year - ((today.month, today.day) < (birthday.month, birthday.day)))\n"
     ]
    },
    {
     "data": {
      "text/html": [
       "<div>\n",
       "<style scoped>\n",
       "    .dataframe tbody tr th:only-of-type {\n",
       "        vertical-align: middle;\n",
       "    }\n",
       "\n",
       "    .dataframe tbody tr th {\n",
       "        vertical-align: top;\n",
       "    }\n",
       "\n",
       "    .dataframe thead th {\n",
       "        text-align: right;\n",
       "    }\n",
       "</style>\n",
       "<table border=\"1\" class=\"dataframe\">\n",
       "  <thead>\n",
       "    <tr style=\"text-align: right;\">\n",
       "      <th></th>\n",
       "      <th>dob</th>\n",
       "      <th>age_1</th>\n",
       "      <th>age_2</th>\n",
       "    </tr>\n",
       "  </thead>\n",
       "  <tbody>\n",
       "    <tr>\n",
       "      <th>count</th>\n",
       "      <td>998</td>\n",
       "      <td>998.000000</td>\n",
       "      <td>998.000000</td>\n",
       "    </tr>\n",
       "    <tr>\n",
       "      <th>mean</th>\n",
       "      <td>2001-03-08 07:47:29.699398784</td>\n",
       "      <td>23.330661</td>\n",
       "      <td>22.637275</td>\n",
       "    </tr>\n",
       "    <tr>\n",
       "      <th>min</th>\n",
       "      <td>1980-06-06 00:00:00</td>\n",
       "      <td>0.000000</td>\n",
       "      <td>-1.000000</td>\n",
       "    </tr>\n",
       "    <tr>\n",
       "      <th>25%</th>\n",
       "      <td>2000-04-11 06:00:00</td>\n",
       "      <td>21.000000</td>\n",
       "      <td>21.000000</td>\n",
       "    </tr>\n",
       "    <tr>\n",
       "      <th>50%</th>\n",
       "      <td>2001-10-16 12:00:00</td>\n",
       "      <td>23.000000</td>\n",
       "      <td>22.000000</td>\n",
       "    </tr>\n",
       "    <tr>\n",
       "      <th>75%</th>\n",
       "      <td>2003-01-05 18:00:00</td>\n",
       "      <td>24.000000</td>\n",
       "      <td>24.000000</td>\n",
       "    </tr>\n",
       "    <tr>\n",
       "      <th>max</th>\n",
       "      <td>2024-10-19 00:00:00</td>\n",
       "      <td>44.000000</td>\n",
       "      <td>43.000000</td>\n",
       "    </tr>\n",
       "    <tr>\n",
       "      <th>std</th>\n",
       "      <td>NaN</td>\n",
       "      <td>3.299020</td>\n",
       "      <td>3.313856</td>\n",
       "    </tr>\n",
       "  </tbody>\n",
       "</table>\n",
       "</div>"
      ],
      "text/plain": [
       "                                 dob       age_1       age_2\n",
       "count                            998  998.000000  998.000000\n",
       "mean   2001-03-08 07:47:29.699398784   23.330661   22.637275\n",
       "min              1980-06-06 00:00:00    0.000000   -1.000000\n",
       "25%              2000-04-11 06:00:00   21.000000   21.000000\n",
       "50%              2001-10-16 12:00:00   23.000000   22.000000\n",
       "75%              2003-01-05 18:00:00   24.000000   24.000000\n",
       "max              2024-10-19 00:00:00   44.000000   43.000000\n",
       "std                              NaN    3.299020    3.313856"
      ]
     },
     "execution_count": 40,
     "metadata": {},
     "output_type": "execute_result"
    }
   ],
   "source": [
    "# Without duplicate\n",
    "\n",
    "df_no_dup['dob'] = pd.to_datetime(df_no_dup['dob'])\n",
    "\n",
    "today = pd.to_datetime('today')\n",
    "\n",
    "df_no_dup['age_1'] = today.year - df_no_dup['dob'].dt.year\n",
    "\n",
    "df_no_dup['age_2'] = df_no_dup['dob'].apply(lambda birthday: today.year - birthday.year - ((today.month, today.day) < (birthday.month, birthday.day)))\n",
    "\n",
    "df_no_dup.describe()"
   ]
  },
  {
   "cell_type": "code",
   "execution_count": 41,
   "id": "8f0dfb3a",
   "metadata": {},
   "outputs": [
    {
     "data": {
      "text/html": [
       "<div>\n",
       "<style scoped>\n",
       "    .dataframe tbody tr th:only-of-type {\n",
       "        vertical-align: middle;\n",
       "    }\n",
       "\n",
       "    .dataframe tbody tr th {\n",
       "        vertical-align: top;\n",
       "    }\n",
       "\n",
       "    .dataframe thead th {\n",
       "        text-align: right;\n",
       "    }\n",
       "</style>\n",
       "<table border=\"1\" class=\"dataframe\">\n",
       "  <thead>\n",
       "    <tr style=\"text-align: right;\">\n",
       "      <th></th>\n",
       "      <th>dob</th>\n",
       "      <th>age_1</th>\n",
       "      <th>age_2</th>\n",
       "    </tr>\n",
       "  </thead>\n",
       "  <tbody>\n",
       "    <tr>\n",
       "      <th>count</th>\n",
       "      <td>995</td>\n",
       "      <td>995.000000</td>\n",
       "      <td>995.000000</td>\n",
       "    </tr>\n",
       "    <tr>\n",
       "      <th>mean</th>\n",
       "      <td>2001-02-10 18:08:19.296482432</td>\n",
       "      <td>23.401005</td>\n",
       "      <td>22.707538</td>\n",
       "    </tr>\n",
       "    <tr>\n",
       "      <th>min</th>\n",
       "      <td>1980-06-06 00:00:00</td>\n",
       "      <td>17.000000</td>\n",
       "      <td>16.000000</td>\n",
       "    </tr>\n",
       "    <tr>\n",
       "      <th>25%</th>\n",
       "      <td>2000-04-07 00:00:00</td>\n",
       "      <td>21.500000</td>\n",
       "      <td>21.000000</td>\n",
       "    </tr>\n",
       "    <tr>\n",
       "      <th>50%</th>\n",
       "      <td>2001-10-15 00:00:00</td>\n",
       "      <td>23.000000</td>\n",
       "      <td>22.000000</td>\n",
       "    </tr>\n",
       "    <tr>\n",
       "      <th>75%</th>\n",
       "      <td>2002-12-29 00:00:00</td>\n",
       "      <td>24.000000</td>\n",
       "      <td>24.000000</td>\n",
       "    </tr>\n",
       "    <tr>\n",
       "      <th>max</th>\n",
       "      <td>2007-07-23 00:00:00</td>\n",
       "      <td>44.000000</td>\n",
       "      <td>43.000000</td>\n",
       "    </tr>\n",
       "    <tr>\n",
       "      <th>std</th>\n",
       "      <td>NaN</td>\n",
       "      <td>3.044439</td>\n",
       "      <td>3.061064</td>\n",
       "    </tr>\n",
       "  </tbody>\n",
       "</table>\n",
       "</div>"
      ],
      "text/plain": [
       "                                 dob       age_1       age_2\n",
       "count                            995  995.000000  995.000000\n",
       "mean   2001-02-10 18:08:19.296482432   23.401005   22.707538\n",
       "min              1980-06-06 00:00:00   17.000000   16.000000\n",
       "25%              2000-04-07 00:00:00   21.500000   21.000000\n",
       "50%              2001-10-15 00:00:00   23.000000   22.000000\n",
       "75%              2002-12-29 00:00:00   24.000000   24.000000\n",
       "max              2007-07-23 00:00:00   44.000000   43.000000\n",
       "std                              NaN    3.044439    3.061064"
      ]
     },
     "execution_count": 41,
     "metadata": {},
     "output_type": "execute_result"
    }
   ],
   "source": [
    "df_no_dup[df_no_dup['age_2']>0].describe()"
   ]
  },
  {
   "cell_type": "markdown",
   "id": "57d46cba",
   "metadata": {},
   "source": [
    "### **How many interns were born on a Sunday?**"
   ]
  },
  {
   "cell_type": "code",
   "execution_count": 42,
   "id": "d5a889d2",
   "metadata": {},
   "outputs": [
    {
     "data": {
      "text/plain": [
       "dob\n",
       "Monday       163\n",
       "Thursday     147\n",
       "Friday       146\n",
       "Saturday     145\n",
       "Tuesday      140\n",
       "Wednesday    134\n",
       "Sunday       125\n",
       "Name: count, dtype: int64"
      ]
     },
     "execution_count": 42,
     "metadata": {},
     "output_type": "execute_result"
    }
   ],
   "source": [
    "df['dob'].dt.day_name().value_counts()"
   ]
  },
  {
   "cell_type": "code",
   "execution_count": 43,
   "id": "6d6ddbad",
   "metadata": {},
   "outputs": [
    {
     "data": {
      "text/plain": [
       "<Axes: xlabel='dob'>"
      ]
     },
     "execution_count": 43,
     "metadata": {},
     "output_type": "execute_result"
    },
    {
     "data": {
      "image/png": "[encoded data removed]",
      "text/plain": [
       "<Figure size 640x480 with 1 Axes>"
      ]
     },
     "metadata": {},
     "output_type": "display_data"
    }
   ],
   "source": [
    "df['dob'].dt.day_name().value_counts().plot(kind='bar')"
   ]
  },
  {
   "cell_type": "code",
   "execution_count": 44,
   "id": "96ad5d80",
   "metadata": {},
   "outputs": [
    {
     "data": {
      "text/plain": [
       "dob\n",
       "Monday       162\n",
       "Thursday     147\n",
       "Friday       146\n",
       "Saturday     144\n",
       "Tuesday      139\n",
       "Wednesday    134\n",
       "Sunday       125\n",
       "Name: count, dtype: int64"
      ]
     },
     "execution_count": 44,
     "metadata": {},
     "output_type": "execute_result"
    }
   ],
   "source": [
    "# Even after removing outliers, the output remains the same\n",
    "\n",
    "df.loc[df['age_2']>0, 'dob'].dt.day_name().value_counts()"
   ]
  },
  {
   "cell_type": "code",
   "execution_count": 45,
   "id": "efad29c1",
   "metadata": {},
   "outputs": [
    {
     "data": {
      "text/plain": [
       "dob\n",
       "Monday       161\n",
       "Friday       146\n",
       "Thursday     146\n",
       "Saturday     144\n",
       "Tuesday      139\n",
       "Wednesday    134\n",
       "Sunday       125\n",
       "Name: count, dtype: int64"
      ]
     },
     "execution_count": 45,
     "metadata": {},
     "output_type": "execute_result"
    }
   ],
   "source": [
    "# Without Duplicates and Outliers\n",
    "\n",
    "df_no_dup.loc[df_no_dup['age_2']>0, 'dob'].dt.day_name().value_counts()"
   ]
  },
  {
   "cell_type": "markdown",
   "id": "73dfb218",
   "metadata": {},
   "source": [
    "### **In which month do the majority of interns are born?**"
   ]
  },
  {
   "cell_type": "code",
   "execution_count": 46,
   "id": "45d844c1",
   "metadata": {},
   "outputs": [
    {
     "data": {
      "text/plain": [
       "<Axes: xlabel='dob'>"
      ]
     },
     "execution_count": 46,
     "metadata": {},
     "output_type": "execute_result"
    },
    {
     "data": {
      "image/png": "[encoded data removed]",
      "text/plain": [
       "<Figure size 640x480 with 1 Axes>"
      ]
     },
     "metadata": {},
     "output_type": "display_data"
    }
   ],
   "source": [
    "df['dob'].dt.month_name().value_counts().plot(kind='bar')"
   ]
  },
  {
   "cell_type": "code",
   "execution_count": 47,
   "id": "9a4fc312",
   "metadata": {},
   "outputs": [
    {
     "data": {
      "text/plain": [
       "dob\n",
       "July         103\n",
       "May          102\n",
       "June          97\n",
       "August        93\n",
       "October       92\n",
       "April         87\n",
       "September     81\n",
       "November      78\n",
       "December      76\n",
       "January       66\n",
       "February      64\n",
       "March         61\n",
       "Name: count, dtype: int64"
      ]
     },
     "execution_count": 47,
     "metadata": {},
     "output_type": "execute_result"
    }
   ],
   "source": [
    "df['dob'].dt.month_name().value_counts()"
   ]
  },
  {
   "cell_type": "markdown",
   "id": "4d9eeb69",
   "metadata": {},
   "source": [
    "### **What is the median age of a working professional?**"
   ]
  },
  {
   "cell_type": "markdown",
   "id": "1469d169",
   "metadata": {},
   "source": [
    "### **What is the maximum age of a freelancer?**"
   ]
  },
  {
   "cell_type": "code",
   "execution_count": 48,
   "id": "8311606e",
   "metadata": {},
   "outputs": [],
   "source": [
    "grouped_df = df.groupby('current_profession')"
   ]
  },
  {
   "cell_type": "code",
   "execution_count": 49,
   "id": "06fdcf4b",
   "metadata": {},
   "outputs": [
    {
     "data": {
      "text/html": [
       "<div>\n",
       "<style scoped>\n",
       "    .dataframe tbody tr th:only-of-type {\n",
       "        vertical-align: middle;\n",
       "    }\n",
       "\n",
       "    .dataframe tbody tr th {\n",
       "        vertical-align: top;\n",
       "    }\n",
       "\n",
       "    .dataframe thead th {\n",
       "        text-align: right;\n",
       "    }\n",
       "</style>\n",
       "<table border=\"1\" class=\"dataframe\">\n",
       "  <thead>\n",
       "    <tr style=\"text-align: right;\">\n",
       "      <th></th>\n",
       "      <th>count</th>\n",
       "      <th>min</th>\n",
       "      <th>max</th>\n",
       "      <th>mean</th>\n",
       "      <th>median</th>\n",
       "      <th>std</th>\n",
       "    </tr>\n",
       "    <tr>\n",
       "      <th>current_profession</th>\n",
       "      <th></th>\n",
       "      <th></th>\n",
       "      <th></th>\n",
       "      <th></th>\n",
       "      <th></th>\n",
       "      <th></th>\n",
       "    </tr>\n",
       "  </thead>\n",
       "  <tbody>\n",
       "    <tr>\n",
       "      <th>Freelancer (I have completed my Education and working part time or owns a business)</th>\n",
       "      <td>26</td>\n",
       "      <td>22</td>\n",
       "      <td>44</td>\n",
       "      <td>29.884615</td>\n",
       "      <td>29.0</td>\n",
       "      <td>5.286412</td>\n",
       "    </tr>\n",
       "    <tr>\n",
       "      <th>Fresher (I have completed my Education and looking for a job now)</th>\n",
       "      <td>424</td>\n",
       "      <td>20</td>\n",
       "      <td>36</td>\n",
       "      <td>24.195755</td>\n",
       "      <td>24.0</td>\n",
       "      <td>2.433393</td>\n",
       "    </tr>\n",
       "    <tr>\n",
       "      <th>Student (I am currently enrolled in some Educational Program)</th>\n",
       "      <td>488</td>\n",
       "      <td>0</td>\n",
       "      <td>33</td>\n",
       "      <td>21.745902</td>\n",
       "      <td>22.0</td>\n",
       "      <td>2.282192</td>\n",
       "    </tr>\n",
       "    <tr>\n",
       "      <th>Working Professional (I have completed my Education and working full time)</th>\n",
       "      <td>62</td>\n",
       "      <td>0</td>\n",
       "      <td>35</td>\n",
       "      <td>27.048387</td>\n",
       "      <td>27.0</td>\n",
       "      <td>5.138819</td>\n",
       "    </tr>\n",
       "  </tbody>\n",
       "</table>\n",
       "</div>"
      ],
      "text/plain": [
       "                                                    count  min  max  \\\n",
       "current_profession                                                    \n",
       "Freelancer (I have completed my Education and w...     26   22   44   \n",
       "Fresher (I have completed my Education and look...    424   20   36   \n",
       "Student (I am currently enrolled in some Educat...    488    0   33   \n",
       "Working Professional (I have completed my Educa...     62    0   35   \n",
       "\n",
       "                                                         mean  median  \\\n",
       "current_profession                                                      \n",
       "Freelancer (I have completed my Education and w...  29.884615    29.0   \n",
       "Fresher (I have completed my Education and look...  24.195755    24.0   \n",
       "Student (I am currently enrolled in some Educat...  21.745902    22.0   \n",
       "Working Professional (I have completed my Educa...  27.048387    27.0   \n",
       "\n",
       "                                                         std  \n",
       "current_profession                                            \n",
       "Freelancer (I have completed my Education and w...  5.286412  \n",
       "Fresher (I have completed my Education and look...  2.433393  \n",
       "Student (I am currently enrolled in some Educat...  2.282192  \n",
       "Working Professional (I have completed my Educa...  5.138819  "
      ]
     },
     "execution_count": 49,
     "metadata": {},
     "output_type": "execute_result"
    }
   ],
   "source": [
    "grouped_df['age_1'].agg(['count', 'min', 'max', 'mean', 'median', 'std'])"
   ]
  },
  {
   "cell_type": "code",
   "execution_count": 50,
   "id": "840ee7bf",
   "metadata": {},
   "outputs": [
    {
     "data": {
      "text/html": [
       "<div>\n",
       "<style scoped>\n",
       "    .dataframe tbody tr th:only-of-type {\n",
       "        vertical-align: middle;\n",
       "    }\n",
       "\n",
       "    .dataframe tbody tr th {\n",
       "        vertical-align: top;\n",
       "    }\n",
       "\n",
       "    .dataframe thead th {\n",
       "        text-align: right;\n",
       "    }\n",
       "</style>\n",
       "<table border=\"1\" class=\"dataframe\">\n",
       "  <thead>\n",
       "    <tr style=\"text-align: right;\">\n",
       "      <th></th>\n",
       "      <th>count</th>\n",
       "      <th>min</th>\n",
       "      <th>max</th>\n",
       "      <th>mean</th>\n",
       "      <th>median</th>\n",
       "      <th>std</th>\n",
       "    </tr>\n",
       "    <tr>\n",
       "      <th>current_profession</th>\n",
       "      <th></th>\n",
       "      <th></th>\n",
       "      <th></th>\n",
       "      <th></th>\n",
       "      <th></th>\n",
       "      <th></th>\n",
       "    </tr>\n",
       "  </thead>\n",
       "  <tbody>\n",
       "    <tr>\n",
       "      <th>Freelancer (I have completed my Education and working part time or owns a business)</th>\n",
       "      <td>26</td>\n",
       "      <td>21</td>\n",
       "      <td>43</td>\n",
       "      <td>29.076923</td>\n",
       "      <td>28.0</td>\n",
       "      <td>5.237733</td>\n",
       "    </tr>\n",
       "    <tr>\n",
       "      <th>Fresher (I have completed my Education and looking for a job now)</th>\n",
       "      <td>424</td>\n",
       "      <td>20</td>\n",
       "      <td>35</td>\n",
       "      <td>23.516509</td>\n",
       "      <td>23.0</td>\n",
       "      <td>2.434914</td>\n",
       "    </tr>\n",
       "    <tr>\n",
       "      <th>Student (I am currently enrolled in some Educational Program)</th>\n",
       "      <td>488</td>\n",
       "      <td>-1</td>\n",
       "      <td>33</td>\n",
       "      <td>21.030738</td>\n",
       "      <td>21.0</td>\n",
       "      <td>2.315264</td>\n",
       "    </tr>\n",
       "    <tr>\n",
       "      <th>Working Professional (I have completed my Education and working full time)</th>\n",
       "      <td>62</td>\n",
       "      <td>0</td>\n",
       "      <td>35</td>\n",
       "      <td>26.483871</td>\n",
       "      <td>26.0</td>\n",
       "      <td>5.082087</td>\n",
       "    </tr>\n",
       "  </tbody>\n",
       "</table>\n",
       "</div>"
      ],
      "text/plain": [
       "                                                    count  min  max  \\\n",
       "current_profession                                                    \n",
       "Freelancer (I have completed my Education and w...     26   21   43   \n",
       "Fresher (I have completed my Education and look...    424   20   35   \n",
       "Student (I am currently enrolled in some Educat...    488   -1   33   \n",
       "Working Professional (I have completed my Educa...     62    0   35   \n",
       "\n",
       "                                                         mean  median  \\\n",
       "current_profession                                                      \n",
       "Freelancer (I have completed my Education and w...  29.076923    28.0   \n",
       "Fresher (I have completed my Education and look...  23.516509    23.0   \n",
       "Student (I am currently enrolled in some Educat...  21.030738    21.0   \n",
       "Working Professional (I have completed my Educa...  26.483871    26.0   \n",
       "\n",
       "                                                         std  \n",
       "current_profession                                            \n",
       "Freelancer (I have completed my Education and w...  5.237733  \n",
       "Fresher (I have completed my Education and look...  2.434914  \n",
       "Student (I am currently enrolled in some Educat...  2.315264  \n",
       "Working Professional (I have completed my Educa...  5.082087  "
      ]
     },
     "execution_count": 50,
     "metadata": {},
     "output_type": "execute_result"
    }
   ],
   "source": [
    "grouped_df['age_2'].agg(['count', 'min', 'max', 'mean', 'median', 'std'])"
   ]
  },
  {
   "cell_type": "markdown",
   "id": "addd978a",
   "metadata": {},
   "source": [
    "## **Let’s do our final analysis now. Let’s try to learn about the institute from where interns have completed or are pursuing their data science courses.**"
   ]
  },
  {
   "cell_type": "markdown",
   "id": "a2ff438c",
   "metadata": {},
   "source": [
    "### **1. How many interns didn’t mention the name of the data science institute from where they completed or are currently pursuing the courses?**"
   ]
  },
  {
   "cell_type": "markdown",
   "id": "3376d9e1",
   "metadata": {},
   "source": [
    "### **2. How many interns mentioned Innomatics as their data science institute?**"
   ]
  },
  {
   "cell_type": "code",
   "execution_count": 51,
   "id": "a1f0426c",
   "metadata": {},
   "outputs": [
    {
     "data": {
      "text/plain": [
       "365"
      ]
     },
     "execution_count": 51,
     "metadata": {},
     "output_type": "execute_result"
    }
   ],
   "source": [
    "df['ds_course_institute'].nunique()"
   ]
  },
  {
   "cell_type": "code",
   "execution_count": 52,
   "id": "06d7ad0c",
   "metadata": {},
   "outputs": [
    {
     "data": {
      "text/plain": [
       "array(['Innomatics Research Labs', nan,\n",
       "       'Velagapudi ramakrishna Siddhartha college ',\n",
       "       'In NPTEL as well as Coursera IBM Data Science Course I am currently enrolled in.',\n",
       "       'Innomatics research labs ', 'Coach-Ed',\n",
       "       'Internship at Innomatics Research Labs',\n",
       "       'Symbiosis skills and professional University',\n",
       "       'AISSMS Institute of Information Technology',\n",
       "       'Swayam NPTEL course ', 'Innomatics Research Labs ',\n",
       "       'Innomatics Research Labs\"', 'Innomatices research labs',\n",
       "       'InnomaticsResearchLabs ', 'Udemy', 'INNOMATICS RESEARCH LABS',\n",
       "       'Innomatics research labs', 'Scaler Academy ',\n",
       "       'Sri Manakula Vinayagar Engineering College',\n",
       "       'Innomatics Resarch Labs ', 'Innomatics',\n",
       "       'innomatics research labs', 'ExcelR Solutions',\n",
       "       'Innomatics Research Lab ', 'Na', 'Acmegrade', 'excelR solutions ',\n",
       "       'Mysore University', 'Coursera', 'Top Mentor',\n",
       "       'Skill for all cisco', 'Innomatics Research labs', 'UDEMY',\n",
       "       'Vikramasimhapuri University', 'Simplilearn',\n",
       "       'University of Kerala', 'Udemy ', 'COURSERA', 'Coursera ',\n",
       "       'Sreenidhi institute of science and technology ',\n",
       "       'SQUAD Infotech Pvt. Ltd.', 'FunctionUp', 'No',\n",
       "       'Andhra Pradesh State Skill Development Corporation (APSSDC)',\n",
       "       'Innomatics Research Labs , JNTU Hyderabad ',\n",
       "       'Chandigarh University ', 'COCSIT ', 'Inomatics research labs ',\n",
       "       'NA ', 'Excelr', 'Yhills',\n",
       "       \"AWS MACHINE LEARNING FOUNDATIONS, deeplearning.ai and stanford's machine learning specialization on coursera\",\n",
       "       'Pantech solutions, Twilearn ', 'ALMABETTER',\n",
       "       'Innomatics Reasearch Labs', 'Innomatics Research Labs Hyderabad',\n",
       "       'Internshala Trainings', 'ETlhive ', 'Data Einstein ',\n",
       "       ' Coursera, Geeks For Geeks , Udemy.',\n",
       "       'NPTEL Online course for completed the Data science and engineers certification.',\n",
       "       'Scaler', 'Simplilearn and Codebasics',\n",
       "       'Innomatics Research labs ',\n",
       "       'TechnoHacks EduTech Private limited ', 'Internshala',\n",
       "       'IIT madras', 'Offline coaching centre ', 'AlmaBetter ',\n",
       "       'Google Data Analytics Certification, IBM Data Science Certification',\n",
       "       'Institute of aeronautical engineering',\n",
       "       'Tamilnadu Skill Development of Corporation', 'Pantech University',\n",
       "       'almabetter,British Airways Data science virtual internship',\n",
       "       'innomatics Research labs, Hyderabad',\n",
       "       'Innomatics Research Labs, Hyderabad ', 'Innomatics Research lab',\n",
       "       'CodeBasics Online Platform ', 'skill for all Cisco',\n",
       "       'Excelr solutions Pune', 'Digipodium ', '365 Careers',\n",
       "       'Cisco networking academy ', 'Innometics Research Labs',\n",
       "       'Indian Institute of Technology Madras', '1stop',\n",
       "       \"Innomatics Research Lab's\", 'Freecodecamp',\n",
       "       'INNOVATIVE RESEARCH LAB', 'Bharat Intern',\n",
       "       'Innomatics research lab', 'Stanford University', 'coursera ',\n",
       "       'HDLC Technologies ', 'Bharati Vidyapeeth University ',\n",
       "       'Innomatics research Labs', 'Jobaaj Learnings',\n",
       "       'Lovely Professional University ',\n",
       "       'Kaggle Online Course , Coursera Online Course,IBM Course',\n",
       "       'Kristu jayanti college ', 'Innomatics ',\n",
       "       'ITvedant Education Institute', 'INNOMATICS',\n",
       "       'Learnbay institute ', 'DataCamp', 'Stanford University Online ',\n",
       "       'Simplilearn platform ', 'GUVI -IIT Madras Research Park',\n",
       "       'EdYoda Digital Institute', 'St Clair College ', 'The correlation',\n",
       "       'Informatics research lab', 'Innomatics Reasearch labs',\n",
       "       'SR University', 'Coding Ninjas ', 'na', 'Excelr Solutions',\n",
       "       'Charotar University of Science and Technology',\n",
       "       'Innomatics Research Labs.', 'Squad Infotech', 'IBM ', 'Scaler ',\n",
       "       'Upgrad ', 'I am doing geeks for geeks course',\n",
       "       'MIT ADT University', 'Linkedin', 'Bishop Heber College ',\n",
       "       'Shiv Nadar University Chennai ', 'NA(self learning) ',\n",
       "       'IIITDM(Indian Institute of Information and Technology ,Design and Manufacturing) Kancheepuram',\n",
       "       'Ganpat University ', 'Department of technology (pune university)',\n",
       "       'Explore Academy', 'NPTEL',\n",
       "       'Ramniranjan Jhunjhunwala College Mumbai ',\n",
       "       'iNeuron.ai (Full Stack Data Science)', 'Top mentor', '360digitmg',\n",
       "       \"Vidya Pratishthan's Kamalnayan Bajaj Institute of Engineering and Technology\",\n",
       "       'International Institute of Information Technology',\n",
       "       'Vaagdevi college of engineering ',\n",
       "       'Forks coding school, Innomatics Research lab',\n",
       "       'Hagital Consult Nigeria and IBM Data Science Professional Certificate Course (Coursera)',\n",
       "       'Guvi - IITM', '365 Data Science', 'Intershala ',\n",
       "       'Innomatics Research Lab, Hyderabad', 'INeuron', 'Pwskills ',\n",
       "       'College of Engineering Pune', 'Graphic era university ',\n",
       "       'Coursera Platform', 'KWS college of Sangli ',\n",
       "       'INNOMATICS RESEARCH LAB ', 'Jansons Institute of Technology ',\n",
       "       'Coursera Data Science course by IBM', 'DA innomatics',\n",
       "       'Innomatices', 'Google Data analytics certification ', 'IBM',\n",
       "       'GITAM University, Visakhapatnam ', 'Pantech', 'Courseera',\n",
       "       'PW skills ', 'Gnanamani College of Technology ', 'Evarcity',\n",
       "       'Internstudio , Microsoft Learning',\n",
       "       'Indira institute of Education', 'Squad Infotech Pvt.ltd',\n",
       "       'Pwskills', 'Internship studio', 'N/a', 'IANT', 'HyperionDev',\n",
       "       'Great Learning ', 'Learnwick Solutions ',\n",
       "       'Centre for Development of Advanced Computing Mumbai ',\n",
       "       'Innomatics research labs, jntu', 'Physics wallah ',\n",
       "       'Nucot in Bangalore', 'Royal Technosoft pvt Ltd ',\n",
       "       'Innomatics Reasearch Labs ', 'ExcelR', 'Learnbay',\n",
       "       'Coursera IBM Data Science COurse', 'ExcelR Institude Baner Pune',\n",
       "       'Geek For Geeks Course', 'Applied Roots',\n",
       "       'INTELLIPAT and IIT Roorkee',\n",
       "       'From my college I have a subject data science, and also registered with Cisco learnings ',\n",
       "       'PW Skills', 'Tkr college of engineering and technology',\n",
       "       'innomatics research lab', 'Online course (physics Wallah)',\n",
       "       'Innomatics Resreach lab', 'Quality Thoughts',\n",
       "       'Coursers deep learning by Andrew Ng', 'Squad Infotech ', 'N',\n",
       "       'Hamoye and Binance Charity',\n",
       "       'IBM SkillsBuild and CSRBOX academic Internship for Data Analytics!',\n",
       "       'Pw skills', 'Freecodecamp online lessons',\n",
       "       'Innomatics Research  Labs', 'IIT Roorkee ',\n",
       "       'Skill Academy by Testbook', 'Cognitive Class',\n",
       "       'IPCS GLOBAL CALICUT ',\n",
       "       'Rajiv Gandhi Proudyogiki Vishwavidyalaya, Udacity', 'AlmaBetter',\n",
       "       'Academor ', 'PYTHON FOR DATA SCIENCE AND AI BY IBM',\n",
       "       'Letsupgrade ', 'Jain University and FingerTips collaboration ',\n",
       "       'ALIGARH MUSLIM UNIVERSITY', 'IIT-M and Intellipaat',\n",
       "       'Department of Futures Studies, University of Kerala',\n",
       "       'Physics Wallah', 'TCSiON Industry Honored Course',\n",
       "       'Squad Institute ', 'innomatics reseach labs', 'Almabetter ',\n",
       "       'Internshala trainings', 'Simplelearn',\n",
       "       'Indian Institute of Technology, Mandi',\n",
       "       'Deep Learning.ai and Campus X', 'INNOMATICS RESEARCH LABS ',\n",
       "       'Udacity', 'Udemy and PW Skills', 'Learned mostly from Youtube',\n",
       "       'Almabetter Institute ', 'Udemy Zero To Mastery Academy',\n",
       "       'Innomatis Research Labs', 'Linux World Informatic Practices',\n",
       "       'prepinsta', 'Innomatics Research Lab , Hyderabad',\n",
       "       'University of Kerala ', 'Innomatics Research Lab',\n",
       "       'Coursera Certification ', 'innomatics research labs ',\n",
       "       'Kg reddy college of engineering and technology', 'Ybi Foundation',\n",
       "       'Jansons Institute of Technology', 'coursera & scaler',\n",
       "       'Central University of Rajasthan', 'GOOGLE',\n",
       "       'Aligarh Muslim University ', 'Prepinsta',\n",
       "       'Jobaaj Data Science 5 day free course.', 'Odin school  hyderbad ',\n",
       "       'Indian Institute of Technology Kharagpur ',\n",
       "       'Udemy courses and youtube', 'Bishop Heber College (as Degree)',\n",
       "       'sathya technologiies',\n",
       "       '1. Udemy - Completed  2. Great Learning - Completed', 'TEACHNOOK',\n",
       "       'Infosys springboard ',\n",
       "       \"i have done data science virtualship internship and it's completed and also I did an data science certificate from IBM\",\n",
       "       'Analytics Vidhya', 'NareshIT', 'IBM at COURSERA', '360DIGITMG',\n",
       "       'Degree', 'Udemy and coursera', '360DigitMG',\n",
       "       'Devi Ahilya Vishwavidyalay, Indore, India', 'Upskill Campus',\n",
       "       'Ibm', 'Infinite Graphics Teachnology, Pune',\n",
       "       'Infosys Springboard ', 'Cognitiveclass.ai',\n",
       "       'Entrance exam certificate got', 'PrepInsta Prime', 'Swayam NPTL',\n",
       "       'Datamites, bangalore', 'Jain (Deemed-to-be-University)',\n",
       "       'Applied AI Course', 'Teks Academy', 'LEARNBAY', 'VERZEO',\n",
       "       'Iam taking personally by one of the professor ',\n",
       "       'Sona College of Technology & Google ', 'DAVV ',\n",
       "       'PanTech E learning ', 'PES Modern College of Engineering Pune ',\n",
       "       'Ducat,Noida sec-16', 'TCS',\n",
       "       'python programming and artificial intelligence , pantech e learning',\n",
       "       \"Simplilearn data science ( ongoing master's in AI engineer course)\",\n",
       "       'St.Martins Engineering College ', 'Great learning', 'Uncodemy',\n",
       "       'Department of Futures Studies ', 'HarvardX ',\n",
       "       'Cyberaegis IT Solutions Pvt Ltd', 'NCVET', 'YBI Foundation',\n",
       "       'M.Sc Data science ', 'Innomatics research lab Hyderabad ',\n",
       "       'Seed Infotech ', 'Gana Tech Solutions ', 'Guvi',\n",
       "       'Innomatic Reaserch Lab', 'KGiSL Institute of technology',\n",
       "       'Btech Artificial intelligence and data science @ Dhanalakshmi Srinivasan Engineering College Perambalur ',\n",
       "       'udemy', 'NPTEL, freeCodeCamp.org, CS50, Coursera',\n",
       "       'Amity University',\n",
       "       'School of Data Science and Business Intellegence (SDBI), University of Mumbai',\n",
       "       'World Quant Univeristy', 'INNOMATICS RESEARCH LAB',\n",
       "       'Function Up School of Technology ',\n",
       "       'IBM Data Science Professional Certificate Course',\n",
       "       'G H Raisoni collage of engineering and management, Whagoli ',\n",
       "       'Google Advanced Data analytics and Inmakes infotech internship',\n",
       "       'IIT GUWAHATI, EDUREKA ',\n",
       "       'Madanapalle Institute of Technology and Science',\n",
       "       'MIT World Peace University', 'Datamites',\n",
       "       'Paavai engineering college ',\n",
       "       'Innomatics Research Labs, Hyderabad', 'WorldQuant University',\n",
       "       'Data Science for Engineers, Swayam(NTPEL)', 'Codingrad, ExcelR',\n",
       "       'PGD in Pune University ', 'Udemy , great learning ', 'Learn AI',\n",
       "       'Geeks for Geeks',\n",
       "       'Quality Thoughts Infosystems, Velachery, Chennai ',\n",
       "       'Simplilearn ,India.', 'Innomatics Research Labs,Hayderabad',\n",
       "       'The Cooperative university of Kenya ', 'Free code camp',\n",
       "       'Innomatics research labs Hyderabad ', 'IIIT-Bangalore',\n",
       "       'LinkedIn, Coursera ', 'CodeClause', 'ISBR BUSINESS SCHOOL', 'In',\n",
       "       ' Innomatics Research Labs', 'ineuron',\n",
       "       'Sharad Institute of Technology College of engineering ',\n",
       "       \"Ducat's institute \", 'Brainovision', 'Internshala ',\n",
       "       'Amrita school of engineering ', 'Anits ',\n",
       "       'Infinity graphics technology, Pune ', 'Digital nest, Udemy ',\n",
       "       'African Leadership X(ALX)', 'msc data scince',\n",
       "       'Lagos School of programming ',\n",
       "       'University of Roehampton, United Kingdom',\n",
       "       'Livewire Livetech Skills ', 'Naresh IT ',\n",
       "       'Coursera(Stanford), MyCaptain', 'Learnbay ', 'IIIT bangalore',\n",
       "       'SCALER', 'INNOMATICS REASEARCH LABS', 'DataMites',\n",
       "       'Coursera, Google certification', 'Govt ANMT School Anantnag',\n",
       "       'DevTown', 'ONLINE COURSE ',\n",
       "       'Birla Institute of Technology and Science, Pilani '], dtype=object)"
      ]
     },
     "execution_count": 52,
     "metadata": {},
     "output_type": "execute_result"
    }
   ],
   "source": [
    "df['ds_course_institute'].unique()"
   ]
  },
  {
   "cell_type": "code",
   "execution_count": 53,
   "id": "32809793",
   "metadata": {},
   "outputs": [
    {
     "data": {
      "text/plain": [
       "ds_course_institute\n",
       "Innomatics Research Labs                              109\n",
       "Innomatics research labs                               33\n",
       "Coursera                                               18\n",
       "Innomatics research labs                               16\n",
       "Innomatics Research Labs                               16\n",
       "                                                     ... \n",
       "INeuron                                                 1\n",
       "Innomatics Research Lab, Hyderabad                      1\n",
       "Intershala                                              1\n",
       "365 Data Science                                        1\n",
       "Birla Institute of Technology and Science, Pilani       1\n",
       "Name: count, Length: 365, dtype: int64"
      ]
     },
     "execution_count": 53,
     "metadata": {},
     "output_type": "execute_result"
    }
   ],
   "source": [
    "df['ds_course_institute'].value_counts()"
   ]
  },
  {
   "cell_type": "code",
   "execution_count": 54,
   "id": "af6d7512",
   "metadata": {},
   "outputs": [
    {
     "data": {
      "text/plain": [
       "ds_course_institute\n",
       "NaN                                                   322\n",
       "Innomatics Research Labs                              109\n",
       "Innomatics research labs                               33\n",
       "Coursera                                               18\n",
       "Innomatics research labs                               16\n",
       "                                                     ... \n",
       "Innomatics Research Lab, Hyderabad                      1\n",
       "Intershala                                              1\n",
       "365 Data Science                                        1\n",
       "Guvi - IITM                                             1\n",
       "Birla Institute of Technology and Science, Pilani       1\n",
       "Name: count, Length: 366, dtype: int64"
      ]
     },
     "execution_count": 54,
     "metadata": {},
     "output_type": "execute_result"
    }
   ],
   "source": [
    "df['ds_course_institute'].value_counts(dropna=False)"
   ]
  },
  {
   "cell_type": "code",
   "execution_count": 55,
   "id": "25d7976b",
   "metadata": {},
   "outputs": [
    {
     "data": {
      "text/plain": [
       "ds_course_institute\n",
       "NaN                                                                             322\n",
       "Innomatics Research Labs                                                        109\n",
       "Innomatics research labs                                                         33\n",
       "Coursera                                                                         18\n",
       "Innomatics research labs                                                         16\n",
       "Innomatics Research Labs                                                         16\n",
       "INNOMATICS RESEARCH LABS                                                         13\n",
       "Udemy                                                                            11\n",
       "Innomatics                                                                        9\n",
       "Innomatics                                                                        8\n",
       "Innomatics Research labs                                                          7\n",
       "Na                                                                                7\n",
       "Coursera                                                                          7\n",
       "Internshala                                                                       5\n",
       "NA                                                                                5\n",
       "Innomatics Reasearch Labs                                                         4\n",
       "Innomatics Research Lab                                                           4\n",
       "Simplilearn                                                                       4\n",
       "Innomatics Research labs                                                          4\n",
       "Scaler                                                                            4\n",
       "Innomatics research lab                                                           3\n",
       "Innomatics Research Labs, Hyderabad                                               3\n",
       "UDEMY                                                                             3\n",
       "INNOMATICS                                                                        3\n",
       "Udemy                                                                             3\n",
       "Innomatics Research Labs Hyderabad                                                3\n",
       "Innomatics Research Lab                                                           3\n",
       "innomatics research labs                                                          3\n",
       "INNOMATICS RESEARCH LABS                                                          3\n",
       "Squad Infotech                                                                    2\n",
       "Cisco networking academy                                                          2\n",
       "Innomatics research labs Hyderabad                                                2\n",
       "Cognitive Class                                                                   2\n",
       "Pw skills                                                                         2\n",
       "Squad Infotech                                                                    2\n",
       "innomatics research lab                                                           2\n",
       "Institute of aeronautical engineering                                             2\n",
       "Pantech University                                                                2\n",
       "WorldQuant University                                                             2\n",
       "ExcelR                                                                            2\n",
       "Indian Institute of Technology Madras                                             2\n",
       "na                                                                                2\n",
       "Innomatics Reasearch Labs                                                         2\n",
       "Great Learning                                                                    2\n",
       "coursera                                                                          2\n",
       "Coursera Certification                                                            2\n",
       "IBM                                                                               2\n",
       "Vidya Pratishthan's Kamalnayan Bajaj Institute of Engineering and Technology      2\n",
       "360digitmg                                                                        2\n",
       "Great learning                                                                    2\n",
       "Name: count, dtype: int64"
      ]
     },
     "execution_count": 55,
     "metadata": {},
     "output_type": "execute_result"
    }
   ],
   "source": [
    "institute_list = df['ds_course_institute'].value_counts(dropna=False)\n",
    "\n",
    "institute_list.head(50)"
   ]
  },
  {
   "cell_type": "markdown",
   "id": "07e661db",
   "metadata": {},
   "source": [
    "#### Important Note\n",
    "Solving this manually can be a tedious task. Think of a scenario where you have millions of records.\n",
    "\n",
    "** Solution: Levenshtein Distance (Edit Distance) Algorithm**\n",
    "\n",
    "Explore: https://leetcode.com/problems/edit-distance/description/"
   ]
  },
  {
   "cell_type": "code",
   "execution_count": 56,
   "id": "51a3af5b",
   "metadata": {},
   "outputs": [
    {
     "name": "stdout",
     "output_type": "stream",
     "text": [
      "Requirement already satisfied: python-Levenshtein in c:\\users\\hanna\\anaconda3\\lib\\site-packages (0.24.0)\n",
      "Requirement already satisfied: Levenshtein==0.24.0 in c:\\users\\hanna\\anaconda3\\lib\\site-packages (from python-Levenshtein) (0.24.0)\n",
      "Requirement already satisfied: rapidfuzz<4.0.0,>=3.1.0 in c:\\users\\hanna\\anaconda3\\lib\\site-packages (from Levenshtein==0.24.0->python-Levenshtein) (3.6.1)\n"
     ]
    }
   ],
   "source": [
    "!pip install python-Levenshtein"
   ]
  },
  {
   "cell_type": "code",
   "execution_count": 57,
   "id": "52747b79",
   "metadata": {},
   "outputs": [
    {
     "name": "stdout",
     "output_type": "stream",
     "text": [
      "The Levenshtein distance between 'Innomatics' and 'Innometics' is: 1\n"
     ]
    }
   ],
   "source": [
    "import Levenshtein\n",
    "\n",
    "# Example usage\n",
    "str1 = 'Innomatics'\n",
    "str2 = 'Innometics'\n",
    "\n",
    "distance = Levenshtein.distance(str1, str2)\n",
    "\n",
    "print(f\"The Levenshtein distance between '{str1}' and '{str2}' is: {distance}\")"
   ]
  },
  {
   "cell_type": "code",
   "execution_count": 58,
   "id": "1abd8840",
   "metadata": {},
   "outputs": [
    {
     "name": "stdout",
     "output_type": "stream",
     "text": [
      "Requirement already satisfied: fuzzywuzzy in c:\\users\\hanna\\anaconda3\\lib\\site-packages (0.18.0)\n"
     ]
    }
   ],
   "source": [
    "!pip install fuzzywuzzy"
   ]
  },
  {
   "cell_type": "code",
   "execution_count": 59,
   "id": "0d340d36",
   "metadata": {},
   "outputs": [],
   "source": [
    "# Spelling correction using fuzzy matching\n",
    "# Reason: Gives a score out of 100\n",
    "# Parameters:\n",
    "#     - target_word: The word to be corrected.\n",
    "#     - choices: A list of candidate words for correction.\n",
    "#     - threshold: The minimum similarity score for a correction to be accepted.\n",
    "# Returns:\n",
    "#     - The corrected word or the original word if no correction is found.\n",
    "\n",
    "from fuzzywuzzy import process\n",
    "\n",
    "def correct_spelling_errors(target_word=\"\", choices=[], threshold=80):\n",
    "    match, score = process.extractOne(target_word, choices)\n",
    "    if score >= threshold:\n",
    "        return match\n",
    "    else:\n",
    "        return target_word"
   ]
  },
  {
   "cell_type": "code",
   "execution_count": 60,
   "id": "6535bea8",
   "metadata": {},
   "outputs": [],
   "source": [
    "choices = [\"nan\", \"Innomatics\", \"Innomatics Research Labs\", \"Simplilearn\", \"IBM\", \"Coursera\", \"Excelr\", \"Internshala\",\n",
    "           \"Udemy\", \"Scaler\", \"Scaler Academy\", \"Cisco\", \"Engineering\", \"College\", \"University\", \"School\", \"Vishwavidyalaya\",\n",
    "           \"Data Camp\", \"Great Learning\", \"360Digitmg\", \"iNeuron\", \"DUCAT\", \"DataMites\", \"GUVI\", \"NPTEL\", \"Swayam\", \"PWSkills\",\n",
    "           \"PhysicsWallah\", \"Udacity\", \"Self Learning\", \"AlmaBetter\", \"IIIT\", \"IIT\", \"NIT\", \"Indian Institute Of Technology\",\n",
    "           \"National Institute Of Technology\", \"Squad Infotech\", \"Intellipaat\", \"FreeCodeCamp\", \"1Stop\", \"Geeks For Geeks\", \n",
    "           \"Youtube\", \"Top Mentor\", \"LetsUpgrade\", \"UpGrad\", \"NareshIT\", \"Naresh I Technology\", \"SpringBoard\", \"TCS\", \"Infosys\",\n",
    "           \"PanTech\", \"LearnBay\", \"PrepInsta\", \"TestBook\", \"INSOFE\", \"Acmegrade\"]"
   ]
  },
  {
   "cell_type": "code",
   "execution_count": 61,
   "id": "28cbe1c9",
   "metadata": {},
   "outputs": [
    {
     "data": {
      "text/plain": [
       "'Innomatics Research Labs'"
      ]
     },
     "execution_count": 61,
     "metadata": {},
     "output_type": "execute_result"
    }
   ],
   "source": [
    "correct_spelling_errors(target_word=\"Innometic reesrch lab\", choices=choices)"
   ]
  },
  {
   "cell_type": "code",
   "execution_count": 62,
   "id": "e091844f",
   "metadata": {},
   "outputs": [
    {
     "data": {
      "text/plain": [
       "'Kanav'"
      ]
     },
     "execution_count": 62,
     "metadata": {},
     "output_type": "execute_result"
    }
   ],
   "source": [
    "correct_spelling_errors(target_word=\"Kanav\", choices=choices)"
   ]
  },
  {
   "cell_type": "code",
   "execution_count": 63,
   "id": "699c959b",
   "metadata": {},
   "outputs": [],
   "source": [
    "df['ds_course_institute_preprocessed'] = df['ds_course_institute'].apply(lambda institute: correct_spelling_errors(str(institute),choices))"
   ]
  },
  {
   "cell_type": "code",
   "execution_count": 64,
   "id": "10081815",
   "metadata": {},
   "outputs": [
    {
     "data": {
      "text/plain": [
       "120"
      ]
     },
     "execution_count": 64,
     "metadata": {},
     "output_type": "execute_result"
    }
   ],
   "source": [
    "df['ds_course_institute_preprocessed'].nunique()"
   ]
  },
  {
   "cell_type": "code",
   "execution_count": 65,
   "id": "c917ff7d",
   "metadata": {},
   "outputs": [
    {
     "data": {
      "text/plain": [
       "array(['Innomatics Research Labs', 'nan', 'College',\n",
       "       'Naresh I Technology', 'Coach-Ed', 'Innomatics', 'University',\n",
       "       'NPTEL', 'Udemy', 'Scaler Academy', 'Engineering', 'Excelr',\n",
       "       'Acmegrade', 'Coursera', 'Top Mentor', 'Cisco', 'Simplilearn',\n",
       "       'Indian Institute Of Technology', 'Squad Infotech', 'FunctionUp',\n",
       "       'Andhra Pradesh State Skill Development Corporation (APSSDC)',\n",
       "       'COCSIT ', 'Yhills', 'Great Learning', 'PanTech', 'AlmaBetter',\n",
       "       'Internshala', 'ETlhive ', 'Data Einstein ', 'Geeks For Geeks',\n",
       "       'Scaler', 'TechnoHacks EduTech Private limited ', 'IIT',\n",
       "       'Offline coaching centre ', 'Data Camp',\n",
       "       'Tamilnadu Skill Development of Corporation',\n",
       "       'CodeBasics Online Platform ', 'Digipodium ', '365 Careers',\n",
       "       '1Stop', 'FreeCodeCamp', 'Bharat Intern', 'HDLC Technologies ',\n",
       "       'Jobaaj Learnings', 'DUCAT', 'LearnBay', 'GUVI',\n",
       "       'EdYoda Digital Institute', 'The correlation', 'Coding Ninjas ',\n",
       "       'IBM', 'UpGrad', 'Linkedin', 'Self Learning', 'Explore Academy',\n",
       "       'iNeuron', '360Digitmg',\n",
       "       'Hagital Consult Nigeria and IBM Data Science Professional Certificate Course (Coursera)',\n",
       "       'PWSkills', 'National Institute Of Technology', 'Evarcity',\n",
       "       'Internship studio', 'N/a', 'IANT', 'HyperionDev',\n",
       "       'Learnwick Solutions ', 'PhysicsWallah', 'Nucot in Bangalore',\n",
       "       'Royal Technosoft pvt Ltd ', 'Applied Roots', 'Intellipaat',\n",
       "       'Quality Thoughts', 'Hamoye and Binance Charity', 'TestBook',\n",
       "       'NIT', 'IPCS GLOBAL CALICUT ', 'Vishwavidyalaya', 'Academor ',\n",
       "       'LetsUpgrade', 'TCSiON Industry Honored Course', 'Udacity',\n",
       "       'Youtube', 'Linux World Informatic Practices', 'PrepInsta',\n",
       "       'Ybi Foundation', 'GOOGLE', 'School', 'sathya technologiies',\n",
       "       'TEACHNOOK', 'SpringBoard', 'Analytics Vidhya', 'NareshIT',\n",
       "       'Degree', 'Upskill Campus', 'Infinite Graphics Teachnology, Pune',\n",
       "       'Entrance exam certificate got', 'Swayam', 'DataMites',\n",
       "       'Applied AI Course', 'Teks Academy', 'VERZEO', 'DAVV ', 'TCS',\n",
       "       'Uncodemy', 'Department of Futures Studies ', 'HarvardX ',\n",
       "       'Cyberaegis IT Solutions Pvt Ltd', 'NCVET', 'YBI Foundation',\n",
       "       'Gana Tech Solutions ',\n",
       "       'Btech Artificial intelligence and data science @ Dhanalakshmi Srinivasan Engineering College Perambalur ',\n",
       "       'Learn AI', 'Infosys', 'IIIT', 'CodeClause', 'Brainovision',\n",
       "       'African Leadership X(ALX)', 'Livewire Livetech Skills ',\n",
       "       'DevTown', 'ONLINE COURSE '], dtype=object)"
      ]
     },
     "execution_count": 65,
     "metadata": {},
     "output_type": "execute_result"
    }
   ],
   "source": [
    "df['ds_course_institute_preprocessed'].unique()"
   ]
  },
  {
   "cell_type": "code",
   "execution_count": 66,
   "id": "4603d43c",
   "metadata": {},
   "outputs": [
    {
     "data": {
      "text/plain": [
       "ds_course_institute_preprocessed\n",
       "nan                                                                                        337\n",
       "Innomatics Research Labs                                                                   259\n",
       "Coursera                                                                                    43\n",
       "University                                                                                  36\n",
       "Innomatics                                                                                  30\n",
       "                                                                                          ... \n",
       "Hagital Consult Nigeria and IBM Data Science Professional Certificate Course (Coursera)      1\n",
       "Explore Academy                                                                              1\n",
       "Self Learning                                                                                1\n",
       "Linkedin                                                                                     1\n",
       "ONLINE COURSE                                                                                1\n",
       "Name: count, Length: 120, dtype: int64"
      ]
     },
     "execution_count": 66,
     "metadata": {},
     "output_type": "execute_result"
    }
   ],
   "source": [
    "df['ds_course_institute_preprocessed'].value_counts(dropna=False)"
   ]
  },
  {
   "cell_type": "code",
   "execution_count": 67,
   "id": "f3a6aa21",
   "metadata": {},
   "outputs": [
    {
     "data": {
      "text/plain": [
       "ds_course_institute_preprocessed\n",
       "nan                                 337\n",
       "Innomatics Research Labs            259\n",
       "Coursera                             43\n",
       "University                           36\n",
       "Innomatics                           30\n",
       "Udemy                                23\n",
       "Engineering                          16\n",
       "Indian Institute Of Technology       12\n",
       "Data Camp                            12\n",
       "Great Learning                       10\n",
       "Simplilearn                           9\n",
       "Internshala                           9\n",
       "Excelr                                9\n",
       "College                               9\n",
       "Squad Infotech                        7\n",
       "AlmaBetter                            6\n",
       "PWSkills                              6\n",
       "IBM                                   6\n",
       "Naresh I Technology                   6\n",
       "Scaler                                6\n",
       "School                                5\n",
       "DUCAT                                 4\n",
       "IIT                                   4\n",
       "Geeks For Geeks                       4\n",
       "LearnBay                              4\n",
       "360Digitmg                            4\n",
       "Cisco                                 4\n",
       "NIT                                   4\n",
       "PanTech                               3\n",
       "DataMites                             3\n",
       "GUVI                                  3\n",
       "iNeuron                               3\n",
       "PhysicsWallah                         3\n",
       "FreeCodeCamp                          3\n",
       "PrepInsta                             3\n",
       "FunctionUp                            2\n",
       "Swayam                                2\n",
       "Vishwavidyalaya                       2\n",
       "NPTEL                                 2\n",
       "National Institute Of Technology      2\n",
       "Scaler Academy                        2\n",
       "Top Mentor                            2\n",
       "NareshIT                              2\n",
       "SpringBoard                           2\n",
       "IIIT                                  2\n",
       "Degree                                1\n",
       "Upskill Campus                        1\n",
       "sathya technologiies                  1\n",
       "Youtube                               1\n",
       "Linux World Informatic Practices      1\n",
       "Name: count, dtype: int64"
      ]
     },
     "execution_count": 67,
     "metadata": {},
     "output_type": "execute_result"
    }
   ],
   "source": [
    "institute_list_processed = df['ds_course_institute_preprocessed'].value_counts(dropna=False)\n",
    "\n",
    "institute_list_processed.head(50)"
   ]
  },
  {
   "cell_type": "code",
   "execution_count": null,
   "id": "cc0643c4",
   "metadata": {},
   "outputs": [],
   "source": []
  }
 ],
 "metadata": {
  "kernelspec": {
   "display_name": "Python 3 (ipykernel)",
   "language": "python",
   "name": "python3"
  },
  "language_info": {
   "codemirror_mode": {
    "name": "ipython",
    "version": 3
   },
   "file_extension": ".py",
   "mimetype": "text/x-python",
   "name": "python",
   "nbconvert_exporter": "python",
   "pygments_lexer": "ipython3",
   "version": "3.11.5"
  }
 },
 "nbformat": 4,
 "nbformat_minor": 5
}
